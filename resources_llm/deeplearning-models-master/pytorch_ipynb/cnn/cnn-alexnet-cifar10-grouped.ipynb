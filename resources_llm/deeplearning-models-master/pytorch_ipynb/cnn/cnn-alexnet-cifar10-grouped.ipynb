{
 "cells": [
  {
   "cell_type": "markdown",
   "metadata": {
    "colab_type": "text",
    "id": "UEBilEjLj5wY"
   },
   "source": [
    "Deep Learning Models -- A collection of various deep learning architectures, models, and tips for TensorFlow and PyTorch in Jupyter Notebooks.\n",
    "- Author: Sebastian Raschka\n",
    "- GitHub Repository: https://github.com/rasbt/deeplearning-models\n",
    "\n",
    "---"
   ]
  },
  {
   "cell_type": "code",
   "execution_count": 1,
   "metadata": {
    "colab": {
     "autoexec": {
      "startup": false,
      "wait_interval": 0
     },
     "base_uri": "https://localhost:8080/",
     "height": 119
    },
    "colab_type": "code",
    "executionInfo": {
     "elapsed": 536,
     "status": "ok",
     "timestamp": 1524974472601,
     "user": {
      "displayName": "Sebastian Raschka",
      "photoUrl": "//lh6.googleusercontent.com/-cxK6yOSQ6uE/AAAAAAAAAAI/AAAAAAAAIfw/P9ar_CHsKOQ/s50-c-k-no/photo.jpg",
      "userId": "118404394130788869227"
     },
     "user_tz": 240
    },
    "id": "GOzuY8Yvj5wb",
    "outputId": "c19362ce-f87a-4cc2-84cc-8d7b4b9e6007"
   },
   "outputs": [
    {
     "name": "stdout",
     "output_type": "stream",
     "text": [
      "Author: Sebastian Raschka\n",
      "\n",
      "Python implementation: CPython\n",
      "Python version       : 3.8.12\n",
      "IPython version      : 8.0.1\n",
      "\n",
      "torch: 1.10.1\n",
      "\n"
     ]
    }
   ],
   "source": [
    "%load_ext watermark\n",
    "%watermark -a 'Sebastian Raschka' -v -p torch"
   ]
  },
  {
   "cell_type": "markdown",
   "metadata": {
    "colab_type": "text",
    "id": "rH4XmErYj5wm"
   },
   "source": [
    "# AlexNet CIFAR-10 Classifier"
   ]
  },
  {
   "cell_type": "markdown",
   "metadata": {},
   "source": [
    "AlexNet [1][2] trained on CIFAR-10 [3].\n",
    "\n",
    "This implementation uses grouped convolutions like in the original AlexNet paper [2]:\n",
    "\n",
    "![](../images/alexnet/alexnet-paper.png)\n",
    "\n",
    "Here, the network is essentially split into two parts to train it on two GPUs with 1.5 Gb RAM each. This was purely done for computational performance reasons (and the video RAM limitation back then). However, there are certain benefits to using grouped convolutions ...\n",
    "\n",
    "\n",
    "**Taking a step back, how do grouped convolutions work?**\n",
    "\n",
    "In a nutshell, you can think of grouped convolutions as convolutional layers that process part of the input independently and merge the results. So, for example, if you consider grouped convolutions with two filter groups, each filter group would process half of the channels. \n",
    "\n",
    "![](../images/alexnet/grouped-convolutions.png)\n",
    "\n",
    "**One of the benefits of grouped convolutions is**, as noted by Yani Ioannou [4], that AlexNet has a slightly improved accuracy when using two filter groups:\n",
    "\n",
    "![](../images/alexnet/alexnet-groups.png)\n",
    "\n",
    "**Another benefit is the reduced parameter size**. \n",
    "\n",
    "Say we have kernels with height 3 and width 3. The inputs have 6 channels, and the output channels are set to 12. Then, we have kernels with 3x3x6 weight parameters with a regular convolution. Since we have 12 output channels, that's 3x3x6x12=648 parameters in total.\n",
    "\n",
    "Now, let's assume we use a grouped convolution with group size 2. We still have a 3x3 kernel height and width. But now, the number of input channels is split by a factor of 2, so each kernel is 3x3x3. The first group produces the first 6 output channels, so we have 3x3x3x6 parameters for the first group. The second group has the same size, so we have (3x3x3x6)x2 = 3x3x3x12 = 324, which is a 2x reduction in parameters compared to the regular convolution.\n",
    "\n",
    "\n",
    "**And how do we do this in PyTorch?**\n",
    "\n",
    "Implementing grouped convolutions in PyTorch is now really straightforward. We just used the `groups` parameter. For example, to implement a grouped convolution with two filter groups we use\n",
    "\n",
    "    torch.nn.Conv2d(..., groups=2)\n",
    "\n",
    "Note that a requirement for this is that the number of input and output channels is divisible by groups (here: 2).\n",
    "\n",
    "### References\n",
    "\n",
    "- [1] L13.7 CNN Architectures & AlexNet (20:17), https://www.youtube.com/watch?v=-IHxe4-09e4\n",
    "- [2] Imagenet classification with deep convolutional neural networks, https://proceedings.neurips.cc/paper/2012/file/c399862d3b9d6b76c8436e924a68c45b-Paper.pdf\n",
    "- [3] https://en.wikipedia.org/wiki/CIFAR-10\n",
    "- [4] https://blog.yani.ai/filter-group-tutorial/"
   ]
  },
  {
   "cell_type": "markdown",
   "metadata": {
    "colab_type": "text",
    "id": "MkoGLH_Tj5wn"
   },
   "source": [
    "## Imports"
   ]
  },
  {
   "cell_type": "code",
   "execution_count": 2,
   "metadata": {
    "colab": {
     "autoexec": {
      "startup": false,
      "wait_interval": 0
     }
    },
    "colab_type": "code",
    "id": "ORj09gnrj5wp"
   },
   "outputs": [],
   "source": [
    "import os\n",
    "import time\n",
    "import random\n",
    "\n",
    "import numpy as np\n",
    "import pandas as pd\n",
    "\n",
    "import torch\n",
    "import torch.nn as nn\n",
    "import torch.nn.functional as F\n",
    "from torch.utils.data import DataLoader\n",
    "from torch.utils.data.dataset import Subset\n",
    "\n",
    "from torchvision import datasets\n",
    "from torchvision import transforms\n",
    "\n",
    "import matplotlib.pyplot as plt\n",
    "from PIL import Image\n",
    "\n",
    "\n",
    "if torch.cuda.is_available():\n",
    "    torch.backends.cudnn.deterministic = True"
   ]
  },
  {
   "cell_type": "markdown",
   "metadata": {
    "colab_type": "text",
    "id": "I6hghKPxj5w0"
   },
   "source": [
    "## Model Settings"
   ]
  },
  {
   "cell_type": "markdown",
   "metadata": {},
   "source": [
    "#### Setting a random seed"
   ]
  },
  {
   "cell_type": "markdown",
   "metadata": {},
   "source": [
    "I recommend using a function like the following one prior to using dataset loaders and initializing a model if you want to ensure the data is shuffled in the same manner if you rerun this notebook and the model gets the same initial random weights:"
   ]
  },
  {
   "cell_type": "code",
   "execution_count": 3,
   "metadata": {},
   "outputs": [],
   "source": [
    "def set_all_seeds(seed):\n",
    "    os.environ[\"PL_GLOBAL_SEED\"] = str(seed)\n",
    "    random.seed(seed)\n",
    "    np.random.seed(seed)\n",
    "    torch.manual_seed(seed)\n",
    "    torch.cuda.manual_seed_all(seed)"
   ]
  },
  {
   "cell_type": "markdown",
   "metadata": {},
   "source": [
    "#### Setting cuDNN and PyTorch algorithmic behavior to deterministic"
   ]
  },
  {
   "cell_type": "markdown",
   "metadata": {},
   "source": [
    "Similar to the `set_all_seeds` function above, I recommend setting the behavior of PyTorch and cuDNN to deterministic (this is particulary relevant when using GPUs). We can also define a function for that:"
   ]
  },
  {
   "cell_type": "code",
   "execution_count": 4,
   "metadata": {},
   "outputs": [],
   "source": [
    "def set_deterministic():\n",
    "    if torch.cuda.is_available():\n",
    "        torch.backends.cudnn.benchmark = False\n",
    "        torch.backends.cudnn.deterministic = True\n",
    "    torch.set_deterministic(True)"
   ]
  },
  {
   "cell_type": "code",
   "execution_count": 5,
   "metadata": {
    "colab": {
     "autoexec": {
      "startup": false,
      "wait_interval": 0
     },
     "base_uri": "https://localhost:8080/",
     "height": 85
    },
    "colab_type": "code",
    "executionInfo": {
     "elapsed": 23936,
     "status": "ok",
     "timestamp": 1524974497505,
     "user": {
      "displayName": "Sebastian Raschka",
      "photoUrl": "//lh6.googleusercontent.com/-cxK6yOSQ6uE/AAAAAAAAAAI/AAAAAAAAIfw/P9ar_CHsKOQ/s50-c-k-no/photo.jpg",
      "userId": "118404394130788869227"
     },
     "user_tz": 240
    },
    "id": "NnT0sZIwj5wu",
    "outputId": "55aed925-d17e-4c6a-8c71-0d9b3bde5637"
   },
   "outputs": [],
   "source": [
    "##########################\n",
    "### SETTINGS\n",
    "##########################\n",
    "\n",
    "# Hyperparameters\n",
    "RANDOM_SEED = 1\n",
    "LEARNING_RATE = 0.0001\n",
    "BATCH_SIZE = 256\n",
    "NUM_EPOCHS = 40\n",
    "\n",
    "# Architecture\n",
    "NUM_CLASSES = 10\n",
    "\n",
    "# Other\n",
    "DEVICE = \"cuda:0\"\n",
    "\n",
    "set_all_seeds(RANDOM_SEED)\n",
    "\n",
    "# Deterministic behavior not yet supported by AdaptiveAvgPool2d\n",
    "#set_deterministic()"
   ]
  },
  {
   "cell_type": "markdown",
   "metadata": {},
   "source": [
    "#### Import utility functions"
   ]
  },
  {
   "cell_type": "code",
   "execution_count": 6,
   "metadata": {},
   "outputs": [],
   "source": [
    "import sys\n",
    "\n",
    "sys.path.insert(0, \"..\") # to include ../helper_evaluate.py etc.\n",
    "\n",
    "from helper_evaluate import compute_accuracy\n",
    "from helper_data import get_dataloaders_cifar10\n",
    "from helper_train import train_classifier_simple_v1"
   ]
  },
  {
   "cell_type": "markdown",
   "metadata": {},
   "source": [
    "## Dataset"
   ]
  },
  {
   "cell_type": "code",
   "execution_count": 7,
   "metadata": {},
   "outputs": [
    {
     "name": "stdout",
     "output_type": "stream",
     "text": [
      "Files already downloaded and verified\n"
     ]
    }
   ],
   "source": [
    "### Set random seed ###\n",
    "set_all_seeds(RANDOM_SEED)\n",
    "\n",
    "##########################\n",
    "### Dataset\n",
    "##########################\n",
    "\n",
    "train_transforms = transforms.Compose([transforms.Resize((70, 70)),\n",
    "                                       transforms.RandomCrop((64, 64)),\n",
    "                                       transforms.ToTensor()])\n",
    "\n",
    "test_transforms = transforms.Compose([transforms.Resize((70, 70)),\n",
    "                                      transforms.CenterCrop((64, 64)),\n",
    "                                      transforms.ToTensor()])\n",
    "\n",
    "\n",
    "train_loader, valid_loader, test_loader = get_dataloaders_cifar10(\n",
    "    batch_size=BATCH_SIZE, \n",
    "    num_workers=2, \n",
    "    train_transforms=train_transforms,\n",
    "    test_transforms=test_transforms,\n",
    "    validation_fraction=0.1)"
   ]
  },
  {
   "cell_type": "code",
   "execution_count": 8,
   "metadata": {},
   "outputs": [
    {
     "name": "stdout",
     "output_type": "stream",
     "text": [
      "Training Set:\n",
      "\n",
      "Image batch dimensions: torch.Size([256, 3, 64, 64])\n",
      "Image label dimensions: torch.Size([256])\n",
      "tensor([0, 2, 3, 5, 4, 8, 9, 6, 9, 7])\n",
      "\n",
      "Validation Set:\n",
      "Image batch dimensions: torch.Size([256, 3, 64, 64])\n",
      "Image label dimensions: torch.Size([256])\n",
      "tensor([6, 9, 3, 5, 7, 3, 4, 1, 8, 0])\n",
      "\n",
      "Testing Set:\n",
      "Image batch dimensions: torch.Size([256, 3, 64, 64])\n",
      "Image label dimensions: torch.Size([256])\n",
      "tensor([2, 6, 3, 1, 1, 1, 1, 2, 4, 8])\n"
     ]
    }
   ],
   "source": [
    "# Checking the dataset\n",
    "print('Training Set:\\n')\n",
    "for images, labels in train_loader:  \n",
    "    print('Image batch dimensions:', images.size())\n",
    "    print('Image label dimensions:', labels.size())\n",
    "    print(labels[:10])\n",
    "    break\n",
    "    \n",
    "# Checking the dataset\n",
    "print('\\nValidation Set:')\n",
    "for images, labels in valid_loader:  \n",
    "    print('Image batch dimensions:', images.size())\n",
    "    print('Image label dimensions:', labels.size())\n",
    "    print(labels[:10])\n",
    "    break\n",
    "\n",
    "# Checking the dataset\n",
    "print('\\nTesting Set:')\n",
    "for images, labels in train_loader:  \n",
    "    print('Image batch dimensions:', images.size())\n",
    "    print('Image label dimensions:', labels.size())\n",
    "    print(labels[:10])\n",
    "    break"
   ]
  },
  {
   "cell_type": "markdown",
   "metadata": {},
   "source": [
    "## Model"
   ]
  },
  {
   "cell_type": "code",
   "execution_count": 9,
   "metadata": {},
   "outputs": [],
   "source": [
    "##########################\n",
    "### MODEL\n",
    "##########################\n",
    "\n",
    "class AlexNet(nn.Module):\n",
    "\n",
    "    def __init__(self, num_classes):\n",
    "        super(AlexNet, self).__init__()\n",
    "        self.features = nn.Sequential(\n",
    "            nn.Conv2d(3, 64, kernel_size=11, stride=4, padding=2),\n",
    "            nn.ReLU(inplace=True),\n",
    "            nn.MaxPool2d(kernel_size=3, stride=2),\n",
    "            \n",
    "            nn.Conv2d(64, 192, kernel_size=5, padding=2, groups=2),\n",
    "            nn.ReLU(inplace=True),\n",
    "            nn.MaxPool2d(kernel_size=3, stride=2),\n",
    "            \n",
    "            nn.Conv2d(192, 384, kernel_size=3, padding=1, groups=2),\n",
    "            nn.ReLU(inplace=True),\n",
    "            \n",
    "            nn.Conv2d(384, 256, kernel_size=3, padding=1, groups=2),\n",
    "            nn.ReLU(inplace=True),\n",
    "            \n",
    "            nn.Conv2d(256, 256, kernel_size=3, padding=1, groups=2),\n",
    "            nn.ReLU(inplace=True),\n",
    "            nn.MaxPool2d(kernel_size=3, stride=2),\n",
    "        )\n",
    "        self.avgpool = nn.AdaptiveAvgPool2d((6, 6))\n",
    "        self.classifier = nn.Sequential(\n",
    "            nn.Dropout(0.5),\n",
    "            nn.Linear(256 * 6 * 6, 4096),\n",
    "            nn.ReLU(inplace=True),\n",
    "            nn.Dropout(0.5),\n",
    "            nn.Linear(4096, 4096),\n",
    "            nn.ReLU(inplace=True),\n",
    "            nn.Linear(4096, num_classes)\n",
    "        )\n",
    "\n",
    "    def forward(self, x):\n",
    "        x = self.features(x)\n",
    "        x = self.avgpool(x)\n",
    "        x = x.view(x.size(0), 256 * 6 * 6)\n",
    "        logits = self.classifier(x)\n",
    "        probas = F.softmax(logits, dim=1)\n",
    "        return logits"
   ]
  },
  {
   "cell_type": "code",
   "execution_count": 10,
   "metadata": {
    "colab": {
     "autoexec": {
      "startup": false,
      "wait_interval": 0
     }
    },
    "colab_type": "code",
    "id": "_lza9t_uj5w1"
   },
   "outputs": [],
   "source": [
    "torch.manual_seed(RANDOM_SEED)\n",
    "\n",
    "model = AlexNet(NUM_CLASSES)\n",
    "model.to(DEVICE)\n",
    "\n",
    "optimizer = torch.optim.Adam(model.parameters(), lr=LEARNING_RATE)  "
   ]
  },
  {
   "cell_type": "markdown",
   "metadata": {
    "colab_type": "text",
    "id": "RAodboScj5w6"
   },
   "source": [
    "## Training"
   ]
  },
  {
   "cell_type": "code",
   "execution_count": 11,
   "metadata": {
    "colab": {
     "autoexec": {
      "startup": false,
      "wait_interval": 0
     },
     "base_uri": "https://localhost:8080/",
     "height": 1547
    },
    "colab_type": "code",
    "executionInfo": {
     "elapsed": 2384585,
     "status": "ok",
     "timestamp": 1524976888520,
     "user": {
      "displayName": "Sebastian Raschka",
      "photoUrl": "//lh6.googleusercontent.com/-cxK6yOSQ6uE/AAAAAAAAAAI/AAAAAAAAIfw/P9ar_CHsKOQ/s50-c-k-no/photo.jpg",
      "userId": "118404394130788869227"
     },
     "user_tz": 240
    },
    "id": "Dzh3ROmRj5w7",
    "outputId": "5f8fd8c9-b076-403a-b0b7-fd2d498b48d7"
   },
   "outputs": [
    {
     "name": "stdout",
     "output_type": "stream",
     "text": [
      "Epoch: 001/040 | Batch 0000/0175 | Loss: 2.3021\n",
      "Epoch: 001/040 | Batch 0050/0175 | Loss: 2.0457\n",
      "Epoch: 001/040 | Batch 0100/0175 | Loss: 1.8939\n",
      "Epoch: 001/040 | Batch 0150/0175 | Loss: 1.8882\n",
      "***Epoch: 001/040 | Train. Acc.: 32.408% | Loss: 1.743\n",
      "***Epoch: 001/040 | Valid. Acc.: 33.340% | Loss: 1.714\n",
      "Time elapsed: 1.02 min\n",
      "Epoch: 002/040 | Batch 0000/0175 | Loss: 1.7017\n",
      "Epoch: 002/040 | Batch 0050/0175 | Loss: 1.7092\n",
      "Epoch: 002/040 | Batch 0100/0175 | Loss: 1.6315\n",
      "Epoch: 002/040 | Batch 0150/0175 | Loss: 1.5158\n",
      "***Epoch: 002/040 | Train. Acc.: 41.415% | Loss: 1.555\n",
      "***Epoch: 002/040 | Valid. Acc.: 42.140% | Loss: 1.538\n",
      "Time elapsed: 2.06 min\n",
      "Epoch: 003/040 | Batch 0000/0175 | Loss: 1.5034\n",
      "Epoch: 003/040 | Batch 0050/0175 | Loss: 1.5797\n",
      "Epoch: 003/040 | Batch 0100/0175 | Loss: 1.4733\n",
      "Epoch: 003/040 | Batch 0150/0175 | Loss: 1.2810\n",
      "***Epoch: 003/040 | Train. Acc.: 48.246% | Loss: 1.380\n",
      "***Epoch: 003/040 | Valid. Acc.: 49.020% | Loss: 1.373\n",
      "Time elapsed: 3.09 min\n",
      "Epoch: 004/040 | Batch 0000/0175 | Loss: 1.3568\n",
      "Epoch: 004/040 | Batch 0050/0175 | Loss: 1.3999\n",
      "Epoch: 004/040 | Batch 0100/0175 | Loss: 1.4197\n",
      "Epoch: 004/040 | Batch 0150/0175 | Loss: 1.3423\n",
      "***Epoch: 004/040 | Train. Acc.: 52.406% | Loss: 1.289\n",
      "***Epoch: 004/040 | Valid. Acc.: 53.300% | Loss: 1.280\n",
      "Time elapsed: 4.13 min\n",
      "Epoch: 005/040 | Batch 0000/0175 | Loss: 1.2611\n",
      "Epoch: 005/040 | Batch 0050/0175 | Loss: 1.2486\n",
      "Epoch: 005/040 | Batch 0100/0175 | Loss: 1.2251\n",
      "Epoch: 005/040 | Batch 0150/0175 | Loss: 1.2385\n",
      "***Epoch: 005/040 | Train. Acc.: 52.710% | Loss: 1.277\n",
      "***Epoch: 005/040 | Valid. Acc.: 54.220% | Loss: 1.255\n",
      "Time elapsed: 5.17 min\n",
      "Epoch: 006/040 | Batch 0000/0175 | Loss: 1.3014\n",
      "Epoch: 006/040 | Batch 0050/0175 | Loss: 1.2493\n",
      "Epoch: 006/040 | Batch 0100/0175 | Loss: 1.1972\n",
      "Epoch: 006/040 | Batch 0150/0175 | Loss: 1.1217\n",
      "***Epoch: 006/040 | Train. Acc.: 58.699% | Loss: 1.130\n",
      "***Epoch: 006/040 | Valid. Acc.: 58.900% | Loss: 1.133\n",
      "Time elapsed: 6.20 min\n",
      "Epoch: 007/040 | Batch 0000/0175 | Loss: 1.1142\n",
      "Epoch: 007/040 | Batch 0050/0175 | Loss: 1.1751\n",
      "Epoch: 007/040 | Batch 0100/0175 | Loss: 1.1640\n",
      "Epoch: 007/040 | Batch 0150/0175 | Loss: 1.3103\n",
      "***Epoch: 007/040 | Train. Acc.: 59.344% | Loss: 1.130\n",
      "***Epoch: 007/040 | Valid. Acc.: 58.880% | Loss: 1.139\n",
      "Time elapsed: 7.23 min\n",
      "Epoch: 008/040 | Batch 0000/0175 | Loss: 1.0524\n",
      "Epoch: 008/040 | Batch 0050/0175 | Loss: 1.1116\n",
      "Epoch: 008/040 | Batch 0100/0175 | Loss: 1.0474\n",
      "Epoch: 008/040 | Batch 0150/0175 | Loss: 1.0964\n",
      "***Epoch: 008/040 | Train. Acc.: 60.248% | Loss: 1.114\n",
      "***Epoch: 008/040 | Valid. Acc.: 59.220% | Loss: 1.136\n",
      "Time elapsed: 8.28 min\n",
      "Epoch: 009/040 | Batch 0000/0175 | Loss: 1.1965\n",
      "Epoch: 009/040 | Batch 0050/0175 | Loss: 1.0852\n",
      "Epoch: 009/040 | Batch 0100/0175 | Loss: 1.1306\n",
      "Epoch: 009/040 | Batch 0150/0175 | Loss: 1.0086\n",
      "***Epoch: 009/040 | Train. Acc.: 61.824% | Loss: 1.058\n",
      "***Epoch: 009/040 | Valid. Acc.: 60.620% | Loss: 1.076\n",
      "Time elapsed: 9.31 min\n",
      "Epoch: 010/040 | Batch 0000/0175 | Loss: 1.0530\n",
      "Epoch: 010/040 | Batch 0050/0175 | Loss: 1.0641\n",
      "Epoch: 010/040 | Batch 0100/0175 | Loss: 0.9715\n",
      "Epoch: 010/040 | Batch 0150/0175 | Loss: 1.1926\n",
      "***Epoch: 010/040 | Train. Acc.: 64.944% | Loss: 0.977\n",
      "***Epoch: 010/040 | Valid. Acc.: 62.820% | Loss: 1.028\n",
      "Time elapsed: 10.34 min\n",
      "Epoch: 011/040 | Batch 0000/0175 | Loss: 1.0312\n",
      "Epoch: 011/040 | Batch 0050/0175 | Loss: 1.0072\n",
      "Epoch: 011/040 | Batch 0100/0175 | Loss: 0.9125\n",
      "Epoch: 011/040 | Batch 0150/0175 | Loss: 1.0450\n",
      "***Epoch: 011/040 | Train. Acc.: 65.922% | Loss: 0.945\n",
      "***Epoch: 011/040 | Valid. Acc.: 64.360% | Loss: 0.990\n",
      "Time elapsed: 11.37 min\n",
      "Epoch: 012/040 | Batch 0000/0175 | Loss: 1.0078\n",
      "Epoch: 012/040 | Batch 0050/0175 | Loss: 1.0750\n",
      "Epoch: 012/040 | Batch 0100/0175 | Loss: 0.8935\n",
      "Epoch: 012/040 | Batch 0150/0175 | Loss: 0.9567\n",
      "***Epoch: 012/040 | Train. Acc.: 67.286% | Loss: 0.907\n",
      "***Epoch: 012/040 | Valid. Acc.: 64.140% | Loss: 0.983\n",
      "Time elapsed: 12.40 min\n",
      "Epoch: 013/040 | Batch 0000/0175 | Loss: 0.9305\n",
      "Epoch: 013/040 | Batch 0050/0175 | Loss: 0.8980\n",
      "Epoch: 013/040 | Batch 0100/0175 | Loss: 1.0309\n",
      "Epoch: 013/040 | Batch 0150/0175 | Loss: 0.9596\n",
      "***Epoch: 013/040 | Train. Acc.: 69.614% | Loss: 0.853\n",
      "***Epoch: 013/040 | Valid. Acc.: 66.480% | Loss: 0.926\n",
      "Time elapsed: 13.43 min\n",
      "Epoch: 014/040 | Batch 0000/0175 | Loss: 0.8409\n",
      "Epoch: 014/040 | Batch 0050/0175 | Loss: 0.9902\n",
      "Epoch: 014/040 | Batch 0100/0175 | Loss: 0.8945\n",
      "Epoch: 014/040 | Batch 0150/0175 | Loss: 0.9077\n",
      "***Epoch: 014/040 | Train. Acc.: 71.190% | Loss: 0.822\n",
      "***Epoch: 014/040 | Valid. Acc.: 67.460% | Loss: 0.915\n",
      "Time elapsed: 14.45 min\n",
      "Epoch: 015/040 | Batch 0000/0175 | Loss: 0.9422\n",
      "Epoch: 015/040 | Batch 0050/0175 | Loss: 0.8516\n",
      "Epoch: 015/040 | Batch 0100/0175 | Loss: 0.7501\n",
      "Epoch: 015/040 | Batch 0150/0175 | Loss: 0.8076\n",
      "***Epoch: 015/040 | Train. Acc.: 70.270% | Loss: 0.832\n",
      "***Epoch: 015/040 | Valid. Acc.: 66.460% | Loss: 0.936\n",
      "Time elapsed: 15.49 min\n",
      "Epoch: 016/040 | Batch 0000/0175 | Loss: 0.8759\n",
      "Epoch: 016/040 | Batch 0050/0175 | Loss: 0.9273\n",
      "Epoch: 016/040 | Batch 0100/0175 | Loss: 0.8645\n",
      "Epoch: 016/040 | Batch 0150/0175 | Loss: 0.8602\n",
      "***Epoch: 016/040 | Train. Acc.: 69.623% | Loss: 0.859\n",
      "***Epoch: 016/040 | Valid. Acc.: 65.780% | Loss: 0.967\n",
      "Time elapsed: 16.53 min\n",
      "Epoch: 017/040 | Batch 0000/0175 | Loss: 0.9171\n",
      "Epoch: 017/040 | Batch 0050/0175 | Loss: 0.8242\n",
      "Epoch: 017/040 | Batch 0100/0175 | Loss: 0.7830\n",
      "Epoch: 017/040 | Batch 0150/0175 | Loss: 0.9317\n",
      "***Epoch: 017/040 | Train. Acc.: 72.188% | Loss: 0.794\n",
      "***Epoch: 017/040 | Valid. Acc.: 67.400% | Loss: 0.948\n",
      "Time elapsed: 17.56 min\n",
      "Epoch: 018/040 | Batch 0000/0175 | Loss: 0.7613\n",
      "Epoch: 018/040 | Batch 0050/0175 | Loss: 0.8159\n",
      "Epoch: 018/040 | Batch 0100/0175 | Loss: 0.8606\n",
      "Epoch: 018/040 | Batch 0150/0175 | Loss: 0.8943\n",
      "***Epoch: 018/040 | Train. Acc.: 74.721% | Loss: 0.720\n",
      "***Epoch: 018/040 | Valid. Acc.: 69.640% | Loss: 0.866\n",
      "Time elapsed: 18.60 min\n",
      "Epoch: 019/040 | Batch 0000/0175 | Loss: 0.7614\n",
      "Epoch: 019/040 | Batch 0050/0175 | Loss: 0.7849\n",
      "Epoch: 019/040 | Batch 0100/0175 | Loss: 0.8485\n",
      "Epoch: 019/040 | Batch 0150/0175 | Loss: 0.8462\n",
      "***Epoch: 019/040 | Train. Acc.: 75.212% | Loss: 0.704\n",
      "***Epoch: 019/040 | Valid. Acc.: 69.440% | Loss: 0.872\n",
      "Time elapsed: 19.64 min\n",
      "Epoch: 020/040 | Batch 0000/0175 | Loss: 0.6625\n",
      "Epoch: 020/040 | Batch 0050/0175 | Loss: 0.7826\n",
      "Epoch: 020/040 | Batch 0100/0175 | Loss: 0.7387\n",
      "Epoch: 020/040 | Batch 0150/0175 | Loss: 0.7622\n",
      "***Epoch: 020/040 | Train. Acc.: 76.560% | Loss: 0.663\n",
      "***Epoch: 020/040 | Valid. Acc.: 69.820% | Loss: 0.859\n",
      "Time elapsed: 20.68 min\n",
      "Epoch: 021/040 | Batch 0000/0175 | Loss: 0.7006\n",
      "Epoch: 021/040 | Batch 0050/0175 | Loss: 0.6893\n",
      "Epoch: 021/040 | Batch 0100/0175 | Loss: 0.6352\n",
      "Epoch: 021/040 | Batch 0150/0175 | Loss: 0.7598\n",
      "***Epoch: 021/040 | Train. Acc.: 76.339% | Loss: 0.674\n",
      "***Epoch: 021/040 | Valid. Acc.: 70.540% | Loss: 0.859\n",
      "Time elapsed: 21.70 min\n",
      "Epoch: 022/040 | Batch 0000/0175 | Loss: 0.7093\n",
      "Epoch: 022/040 | Batch 0050/0175 | Loss: 0.5893\n",
      "Epoch: 022/040 | Batch 0100/0175 | Loss: 0.6019\n",
      "Epoch: 022/040 | Batch 0150/0175 | Loss: 0.7325\n",
      "***Epoch: 022/040 | Train. Acc.: 78.268% | Loss: 0.623\n",
      "***Epoch: 022/040 | Valid. Acc.: 70.520% | Loss: 0.851\n",
      "Time elapsed: 22.73 min\n",
      "Epoch: 023/040 | Batch 0000/0175 | Loss: 0.6316\n",
      "Epoch: 023/040 | Batch 0050/0175 | Loss: 0.5694\n",
      "Epoch: 023/040 | Batch 0100/0175 | Loss: 0.7315\n",
      "Epoch: 023/040 | Batch 0150/0175 | Loss: 0.6656\n",
      "***Epoch: 023/040 | Train. Acc.: 79.455% | Loss: 0.589\n",
      "***Epoch: 023/040 | Valid. Acc.: 71.440% | Loss: 0.828\n",
      "Time elapsed: 23.77 min\n",
      "Epoch: 024/040 | Batch 0000/0175 | Loss: 0.5285\n",
      "Epoch: 024/040 | Batch 0050/0175 | Loss: 0.6959\n",
      "Epoch: 024/040 | Batch 0100/0175 | Loss: 0.5504\n",
      "Epoch: 024/040 | Batch 0150/0175 | Loss: 0.6831\n",
      "***Epoch: 024/040 | Train. Acc.: 80.174% | Loss: 0.570\n",
      "***Epoch: 024/040 | Valid. Acc.: 70.540% | Loss: 0.830\n",
      "Time elapsed: 24.82 min\n",
      "Epoch: 025/040 | Batch 0000/0175 | Loss: 0.6270\n",
      "Epoch: 025/040 | Batch 0050/0175 | Loss: 0.6128\n",
      "Epoch: 025/040 | Batch 0100/0175 | Loss: 0.5769\n",
      "Epoch: 025/040 | Batch 0150/0175 | Loss: 0.6409\n",
      "***Epoch: 025/040 | Train. Acc.: 80.933% | Loss: 0.547\n",
      "***Epoch: 025/040 | Valid. Acc.: 72.340% | Loss: 0.822\n",
      "Time elapsed: 25.85 min\n",
      "Epoch: 026/040 | Batch 0000/0175 | Loss: 0.5859\n",
      "Epoch: 026/040 | Batch 0050/0175 | Loss: 0.5577\n",
      "Epoch: 026/040 | Batch 0100/0175 | Loss: 0.6651\n",
      "Epoch: 026/040 | Batch 0150/0175 | Loss: 0.5483\n",
      "***Epoch: 026/040 | Train. Acc.: 79.150% | Loss: 0.589\n",
      "***Epoch: 026/040 | Valid. Acc.: 70.240% | Loss: 0.907\n",
      "Time elapsed: 26.90 min\n",
      "Epoch: 027/040 | Batch 0000/0175 | Loss: 0.6005\n",
      "Epoch: 027/040 | Batch 0050/0175 | Loss: 0.5660\n",
      "Epoch: 027/040 | Batch 0100/0175 | Loss: 0.6606\n",
      "Epoch: 027/040 | Batch 0150/0175 | Loss: 0.5047\n",
      "***Epoch: 027/040 | Train. Acc.: 81.045% | Loss: 0.539\n",
      "***Epoch: 027/040 | Valid. Acc.: 71.120% | Loss: 0.864\n",
      "Time elapsed: 27.94 min\n",
      "Epoch: 028/040 | Batch 0000/0175 | Loss: 0.5897\n",
      "Epoch: 028/040 | Batch 0050/0175 | Loss: 0.5210\n",
      "Epoch: 028/040 | Batch 0100/0175 | Loss: 0.5563\n",
      "Epoch: 028/040 | Batch 0150/0175 | Loss: 0.5192\n",
      "***Epoch: 028/040 | Train. Acc.: 83.891% | Loss: 0.464\n",
      "***Epoch: 028/040 | Valid. Acc.: 72.400% | Loss: 0.815\n",
      "Time elapsed: 28.98 min\n",
      "Epoch: 029/040 | Batch 0000/0175 | Loss: 0.5087\n",
      "Epoch: 029/040 | Batch 0050/0175 | Loss: 0.6121\n",
      "Epoch: 029/040 | Batch 0100/0175 | Loss: 0.5465\n",
      "Epoch: 029/040 | Batch 0150/0175 | Loss: 0.4414\n",
      "***Epoch: 029/040 | Train. Acc.: 82.757% | Loss: 0.493\n",
      "***Epoch: 029/040 | Valid. Acc.: 71.080% | Loss: 0.851\n",
      "Time elapsed: 30.01 min\n",
      "Epoch: 030/040 | Batch 0000/0175 | Loss: 0.5460\n",
      "Epoch: 030/040 | Batch 0050/0175 | Loss: 0.5083\n",
      "Epoch: 030/040 | Batch 0100/0175 | Loss: 0.4999\n",
      "Epoch: 030/040 | Batch 0150/0175 | Loss: 0.5453\n",
      "***Epoch: 030/040 | Train. Acc.: 83.397% | Loss: 0.469\n",
      "***Epoch: 030/040 | Valid. Acc.: 71.660% | Loss: 0.869\n",
      "Time elapsed: 31.03 min\n",
      "Epoch: 031/040 | Batch 0000/0175 | Loss: 0.4998\n",
      "Epoch: 031/040 | Batch 0050/0175 | Loss: 0.4808\n",
      "Epoch: 031/040 | Batch 0100/0175 | Loss: 0.4958\n",
      "Epoch: 031/040 | Batch 0150/0175 | Loss: 0.5201\n",
      "***Epoch: 031/040 | Train. Acc.: 84.167% | Loss: 0.447\n",
      "***Epoch: 031/040 | Valid. Acc.: 71.980% | Loss: 0.873\n",
      "Time elapsed: 32.07 min\n",
      "Epoch: 032/040 | Batch 0000/0175 | Loss: 0.3548\n",
      "Epoch: 032/040 | Batch 0050/0175 | Loss: 0.4062\n",
      "Epoch: 032/040 | Batch 0100/0175 | Loss: 0.4292\n",
      "Epoch: 032/040 | Batch 0150/0175 | Loss: 0.4786\n",
      "***Epoch: 032/040 | Train. Acc.: 85.027% | Loss: 0.430\n",
      "***Epoch: 032/040 | Valid. Acc.: 71.920% | Loss: 0.899\n",
      "Time elapsed: 33.10 min\n",
      "Epoch: 033/040 | Batch 0000/0175 | Loss: 0.4133\n",
      "Epoch: 033/040 | Batch 0050/0175 | Loss: 0.3402\n",
      "Epoch: 033/040 | Batch 0100/0175 | Loss: 0.3988\n",
      "Epoch: 033/040 | Batch 0150/0175 | Loss: 0.4555\n",
      "***Epoch: 033/040 | Train. Acc.: 87.281% | Loss: 0.373\n",
      "***Epoch: 033/040 | Valid. Acc.: 72.960% | Loss: 0.846\n",
      "Time elapsed: 34.13 min\n",
      "Epoch: 034/040 | Batch 0000/0175 | Loss: 0.4540\n",
      "Epoch: 034/040 | Batch 0050/0175 | Loss: 0.5704\n",
      "Epoch: 034/040 | Batch 0100/0175 | Loss: 0.5121\n",
      "Epoch: 034/040 | Batch 0150/0175 | Loss: 0.3992\n",
      "***Epoch: 034/040 | Train. Acc.: 88.328% | Loss: 0.340\n",
      "***Epoch: 034/040 | Valid. Acc.: 73.600% | Loss: 0.847\n",
      "Time elapsed: 35.17 min\n",
      "Epoch: 035/040 | Batch 0000/0175 | Loss: 0.3568\n",
      "Epoch: 035/040 | Batch 0050/0175 | Loss: 0.4348\n",
      "Epoch: 035/040 | Batch 0100/0175 | Loss: 0.3955\n",
      "Epoch: 035/040 | Batch 0150/0175 | Loss: 0.4242\n",
      "***Epoch: 035/040 | Train. Acc.: 88.502% | Loss: 0.338\n",
      "***Epoch: 035/040 | Valid. Acc.: 72.520% | Loss: 0.874\n",
      "Time elapsed: 36.20 min\n",
      "Epoch: 036/040 | Batch 0000/0175 | Loss: 0.2860\n",
      "Epoch: 036/040 | Batch 0050/0175 | Loss: 0.3446\n",
      "Epoch: 036/040 | Batch 0100/0175 | Loss: 0.4947\n",
      "Epoch: 036/040 | Batch 0150/0175 | Loss: 0.3412\n",
      "***Epoch: 036/040 | Train. Acc.: 88.482% | Loss: 0.325\n",
      "***Epoch: 036/040 | Valid. Acc.: 72.760% | Loss: 0.905\n",
      "Time elapsed: 37.24 min\n",
      "Epoch: 037/040 | Batch 0000/0175 | Loss: 0.3963\n",
      "Epoch: 037/040 | Batch 0050/0175 | Loss: 0.3388\n",
      "Epoch: 037/040 | Batch 0100/0175 | Loss: 0.3279\n",
      "Epoch: 037/040 | Batch 0150/0175 | Loss: 0.3965\n",
      "***Epoch: 037/040 | Train. Acc.: 90.065% | Loss: 0.294\n",
      "***Epoch: 037/040 | Valid. Acc.: 71.740% | Loss: 0.904\n",
      "Time elapsed: 38.27 min\n",
      "Epoch: 038/040 | Batch 0000/0175 | Loss: 0.3269\n",
      "Epoch: 038/040 | Batch 0050/0175 | Loss: 0.3193\n",
      "Epoch: 038/040 | Batch 0100/0175 | Loss: 0.3548\n",
      "Epoch: 038/040 | Batch 0150/0175 | Loss: 0.3414\n",
      "***Epoch: 038/040 | Train. Acc.: 90.460% | Loss: 0.280\n",
      "***Epoch: 038/040 | Valid. Acc.: 73.400% | Loss: 0.904\n",
      "Time elapsed: 39.30 min\n",
      "Epoch: 039/040 | Batch 0000/0175 | Loss: 0.2794\n",
      "Epoch: 039/040 | Batch 0050/0175 | Loss: 0.2914\n",
      "Epoch: 039/040 | Batch 0100/0175 | Loss: 0.3197\n",
      "Epoch: 039/040 | Batch 0150/0175 | Loss: 0.2898\n",
      "***Epoch: 039/040 | Train. Acc.: 90.545% | Loss: 0.276\n",
      "***Epoch: 039/040 | Valid. Acc.: 73.240% | Loss: 0.922\n",
      "Time elapsed: 40.33 min\n",
      "Epoch: 040/040 | Batch 0000/0175 | Loss: 0.3442\n",
      "Epoch: 040/040 | Batch 0050/0175 | Loss: 0.3222\n",
      "Epoch: 040/040 | Batch 0100/0175 | Loss: 0.4111\n",
      "Epoch: 040/040 | Batch 0150/0175 | Loss: 0.3112\n",
      "***Epoch: 040/040 | Train. Acc.: 89.846% | Loss: 0.292\n",
      "***Epoch: 040/040 | Valid. Acc.: 71.940% | Loss: 0.997\n",
      "Time elapsed: 41.36 min\n",
      "Total Training Time: 41.36 min\n"
     ]
    }
   ],
   "source": [
    "log_dict = train_classifier_simple_v1(num_epochs=NUM_EPOCHS, model=model, \n",
    "                                      optimizer=optimizer, device=DEVICE, \n",
    "                                      train_loader=train_loader, valid_loader=valid_loader, \n",
    "                                      logging_interval=50)"
   ]
  },
  {
   "cell_type": "markdown",
   "metadata": {},
   "source": [
    "## Evaluation"
   ]
  },
  {
   "cell_type": "code",
   "execution_count": 12,
   "metadata": {},
   "outputs": [],
   "source": [
    "import matplotlib.pyplot as plt\n",
    "%matplotlib inline\n"
   ]
  },
  {
   "cell_type": "code",
   "execution_count": 13,
   "metadata": {},
   "outputs": [
    {
     "data": {
      "image/png": "[encoded data removed]",
      "text/plain": [
       "<Figure size 432x288 with 1 Axes>"
      ]
     },
     "metadata": {
      "needs_background": "light"
     },
     "output_type": "display_data"
    }
   ],
   "source": [
    "loss_list = log_dict['train_loss_per_batch']\n",
    "\n",
    "plt.plot(loss_list, label='Minibatch loss')\n",
    "plt.plot(np.convolve(loss_list, \n",
    "                     np.ones(200,)/200, mode='valid'), \n",
    "         label='Running average')\n",
    "\n",
    "plt.ylabel('Cross Entropy')\n",
    "plt.xlabel('Iteration')\n",
    "plt.legend()\n",
    "plt.show()"
   ]
  },
  {
   "cell_type": "code",
   "execution_count": 15,
   "metadata": {},
   "outputs": [
    {
     "data": {
      "image/png": "[encoded data removed]",
      "text/plain": [
       "<Figure size 432x288 with 1 Axes>"
      ]
     },
     "metadata": {
      "needs_background": "light"
     },
     "output_type": "display_data"
    }
   ],
   "source": [
    "plt.plot(np.arange(1, NUM_EPOCHS+1), log_dict['train_acc_per_epoch'], label='Training')\n",
    "plt.plot(np.arange(1, NUM_EPOCHS+1), log_dict['valid_acc_per_epoch'], label='Validation')\n",
    "\n",
    "plt.xlabel('Epoch')\n",
    "plt.ylabel('Accuracy')\n",
    "plt.legend()\n",
    "plt.show()"
   ]
  },
  {
   "cell_type": "code",
   "execution_count": 16,
   "metadata": {},
   "outputs": [
    {
     "name": "stdout",
     "output_type": "stream",
     "text": [
      "Train ACC: 71.94%\n",
      "Validation ACC: 71.94%\n",
      "Test ACC: 70.93%\n"
     ]
    }
   ],
   "source": [
    "with torch.set_grad_enabled(False):\n",
    "    \n",
    "    train_acc = compute_accuracy(model=model,\n",
    "                                 data_loader=test_loader,\n",
    "                                 device=DEVICE)\n",
    "    \n",
    "    test_acc = compute_accuracy(model=model,\n",
    "                                data_loader=test_loader,\n",
    "                                device=DEVICE)\n",
    "    \n",
    "    valid_acc = compute_accuracy(model=model,\n",
    "                                 data_loader=valid_loader,\n",
    "                                 device=DEVICE)\n",
    "    \n",
    "\n",
    "print(f'Train ACC: {valid_acc:.2f}%')\n",
    "print(f'Validation ACC: {valid_acc:.2f}%')\n",
    "print(f'Test ACC: {test_acc:.2f}%')"
   ]
  },
  {
   "cell_type": "code",
   "execution_count": 17,
   "metadata": {},
   "outputs": [
    {
     "name": "stdout",
     "output_type": "stream",
     "text": [
      "torch      : 1.10.1\n",
      "torchvision: 0.11.2\n",
      "numpy      : 1.22.0\n",
      "pandas     : 1.4.1\n",
      "sys        : 3.8.12 | packaged by conda-forge | (default, Oct 12 2021, 21:59:51) \n",
      "[GCC 9.4.0]\n",
      "matplotlib : 3.3.4\n",
      "PIL        : 9.0.1\n",
      "\n"
     ]
    }
   ],
   "source": [
    "%watermark -iv"
   ]
  },
  {
   "cell_type": "code",
   "execution_count": null,
   "metadata": {},
   "outputs": [],
   "source": []
  }
 ],
 "metadata": {
  "accelerator": "GPU",
  "colab": {
   "collapsed_sections": [],
   "default_view": {},
   "name": "convnet-vgg16.ipynb",
   "provenance": [],
   "version": "0.3.2",
   "views": {}
  },
  "kernelspec": {
   "display_name": "Python 3 (ipykernel)",
   "language": "python",
   "name": "python3"
  },
  "language_info": {
   "codemirror_mode": {
    "name": "ipython",
    "version": 3
   },
   "file_extension": ".py",
   "mimetype": "text/x-python",
   "name": "python",
   "nbconvert_exporter": "python",
   "pygments_lexer": "ipython3",
   "version": "3.8.12"
  },
  "toc": {
   "nav_menu": {},
   "number_sections": true,
   "sideBar": true,
   "skip_h1_title": false,
   "title_cell": "Table of Contents",
   "title_sidebar": "Contents",
   "toc_cell": true,
   "toc_position": {
    "height": "calc(100% - 180px)",
    "left": "10px",
    "top": "150px",
    "width": "371px"
   },
   "toc_section_display": true,
   "toc_window_display": true
  }
 },
 "nbformat": 4,
 "nbformat_minor": 4
}
