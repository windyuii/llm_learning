{
 "cells": [
  {
   "cell_type": "markdown",
   "metadata": {
    "colab_type": "text",
    "id": "UEBilEjLj5wY"
   },
   "source": [
    "Deep Learning Models -- A collection of various deep learning architectures, models, and tips for TensorFlow and PyTorch in Jupyter Notebooks.\n",
    "- Author: Sebastian Raschka\n",
    "- GitHub Repository: https://github.com/rasbt/deeplearning-models"
   ]
  },
  {
   "cell_type": "code",
   "execution_count": 1,
   "metadata": {
    "colab": {
     "autoexec": {
      "startup": false,
      "wait_interval": 0
     },
     "base_uri": "https://localhost:8080/",
     "height": 119
    },
    "colab_type": "code",
    "executionInfo": {
     "elapsed": 536,
     "status": "ok",
     "timestamp": 1524974472601,
     "user": {
      "displayName": "Sebastian Raschka",
      "photoUrl": "//lh6.googleusercontent.com/-cxK6yOSQ6uE/AAAAAAAAAAI/AAAAAAAAIfw/P9ar_CHsKOQ/s50-c-k-no/photo.jpg",
      "userId": "118404394130788869227"
     },
     "user_tz": 240
    },
    "id": "GOzuY8Yvj5wb",
    "outputId": "c19362ce-f87a-4cc2-84cc-8d7b4b9e6007"
   },
   "outputs": [
    {
     "name": "stdout",
     "output_type": "stream",
     "text": [
      "Sebastian Raschka \n",
      "\n",
      "CPython 3.7.3\n",
      "IPython 7.9.0\n",
      "\n",
      "torch 1.3.1\n"
     ]
    }
   ],
   "source": [
    "%load_ext watermark\n",
    "%watermark -a 'Sebastian Raschka' -v -p torch"
   ]
  },
  {
   "cell_type": "markdown",
   "metadata": {
    "colab_type": "text",
    "id": "rH4XmErYj5wm"
   },
   "source": [
    "# LeNet-5 QuickDraw Classifier"
   ]
  },
  {
   "cell_type": "markdown",
   "metadata": {},
   "source": [
    "This notebook implements the classic LeNet-5 convolutional network [1] and applies it to MNIST digit classification. The basic architecture is shown in the figure below:\n",
    "\n",
    "![](../images/lenet/lenet-5_1.jpg)"
   ]
  },
  {
   "cell_type": "markdown",
   "metadata": {},
   "source": [
    "\n",
    "\n",
    "LeNet-5 is commonly regarded as the pioneer of convolutional neural networks, consisting of a very simple architecture (by modern standards). In total, LeNet-5 consists of only 7 layers. 3 out of these 7 layers are convolutional layers (C1, C3, C5), which are connected by two average pooling layers (S2 & S4). The penultimate layer is a fully connexted layer (F6), which is followed by the final output layer. The additional details are summarized below:\n",
    "\n",
    "- All convolutional layers use 5x5 kernels with stride 1.\n",
    "- The two average pooling (subsampling) layers are 2x2 pixels wide with stride 1.\n",
    "- Throughrout the network, tanh sigmoid activation functions are used. (**In this notebook, we replace these with ReLU activations**)\n",
    "- The output layer uses 10 custom Euclidean Radial Basis Function neurons for the output layer. (**In this notebook, we replace these with softmax activations**)\n",
    "- The input size is 32x32; here, we rescale the MNIST images from 28x28 to 32x32 to match this input dimension. Alternatively, we would have to change the \n",
    "achieve error rate below 1% on the MNIST data set, which was very close to the state of the art at the time (produced by a boosted ensemble of three LeNet-4 networks).\n",
    "\n",
    "\n",
    "### References\n",
    "\n",
    "- [1] Y. LeCun, L. Bottou, Y. Bengio, and P. Haffner. Gradient-based learning applied to document recognition. Proceedings of the IEEE, november 1998."
   ]
  },
  {
   "cell_type": "markdown",
   "metadata": {
    "colab_type": "text",
    "id": "MkoGLH_Tj5wn"
   },
   "source": [
    "## Imports"
   ]
  },
  {
   "cell_type": "code",
   "execution_count": 2,
   "metadata": {
    "colab": {
     "autoexec": {
      "startup": false,
      "wait_interval": 0
     }
    },
    "colab_type": "code",
    "id": "ORj09gnrj5wp"
   },
   "outputs": [],
   "source": [
    "import os\n",
    "import time\n",
    "\n",
    "import numpy as np\n",
    "import pandas as pd\n",
    "\n",
    "import torch\n",
    "import torch.nn as nn\n",
    "import torch.nn.functional as F\n",
    "from torch.utils.data import DataLoader\n",
    "from torch.utils.data import Dataset\n",
    "\n",
    "from torchvision import transforms\n",
    "\n",
    "import matplotlib.pyplot as plt\n",
    "from PIL import Image\n",
    "\n",
    "\n",
    "if torch.cuda.is_available():\n",
    "    torch.backends.cudnn.deterministic = True"
   ]
  },
  {
   "cell_type": "markdown",
   "metadata": {
    "colab_type": "text",
    "id": "I6hghKPxj5w0"
   },
   "source": [
    "## Model Settings"
   ]
  },
  {
   "cell_type": "code",
   "execution_count": 3,
   "metadata": {
    "colab": {
     "autoexec": {
      "startup": false,
      "wait_interval": 0
     },
     "base_uri": "https://localhost:8080/",
     "height": 85
    },
    "colab_type": "code",
    "executionInfo": {
     "elapsed": 23936,
     "status": "ok",
     "timestamp": 1524974497505,
     "user": {
      "displayName": "Sebastian Raschka",
      "photoUrl": "//lh6.googleusercontent.com/-cxK6yOSQ6uE/AAAAAAAAAAI/AAAAAAAAIfw/P9ar_CHsKOQ/s50-c-k-no/photo.jpg",
      "userId": "118404394130788869227"
     },
     "user_tz": 240
    },
    "id": "NnT0sZIwj5wu",
    "outputId": "55aed925-d17e-4c6a-8c71-0d9b3bde5637"
   },
   "outputs": [],
   "source": [
    "##########################\n",
    "### SETTINGS\n",
    "##########################\n",
    "\n",
    "# Hyperparameters\n",
    "RANDOM_SEED = 1\n",
    "LEARNING_RATE = 0.001\n",
    "BATCH_SIZE = 128\n",
    "NUM_EPOCHS = 10\n",
    "\n",
    "# Architecture\n",
    "NUM_FEATURES = 28*28\n",
    "NUM_CLASSES = 10\n",
    "\n",
    "# Other\n",
    "DEVICE = \"cuda:1\"\n",
    "GRAYSCALE = True"
   ]
  },
  {
   "cell_type": "markdown",
   "metadata": {},
   "source": [
    "## Dataset"
   ]
  },
  {
   "cell_type": "markdown",
   "metadata": {},
   "source": [
    "This notebook is based on Google's Quickdraw dataset (https://quickdraw.withgoogle.com). In particular we will be working with an arbitrary subset of 10 categories in png format:\n",
    "\n",
    "    label_dict = {\n",
    "             \"lollipop\": 0,\n",
    "             \"binoculars\": 1,\n",
    "             \"mouse\": 2,\n",
    "             \"basket\": 3,\n",
    "             \"penguin\": 4,\n",
    "             \"washing machine\": 5,\n",
    "             \"canoe\": 6,\n",
    "             \"eyeglasses\": 7,\n",
    "             \"beach\": 8,\n",
    "             \"screwdriver\": 9,\n",
    "    }\n",
    "    \n",
    "(The class labels 0-9 can be ignored in this notebook). \n",
    "\n",
    "For more details on obtaining and preparing the dataset, please see the\n",
    "\n",
    "- [custom-data-loader-quickdraw.ipynb](../mechanics/custom-data-loader-quickdraw.ipynb)\n",
    "\n",
    "notebook."
   ]
  },
  {
   "cell_type": "code",
   "execution_count": 4,
   "metadata": {},
   "outputs": [
    {
     "name": "stdout",
     "output_type": "stream",
     "text": [
      "(28, 28)\n"
     ]
    },
    {
     "data": {
      "image/png": "[encoded data removed]",
      "text/plain": [
       "<Figure size 432x288 with 1 Axes>"
      ]
     },
     "metadata": {
      "needs_background": "light"
     },
     "output_type": "display_data"
    }
   ],
   "source": [
    "df = pd.read_csv('quickdraw_png_set1_train.csv', index_col=0)\n",
    "df.head()\n",
    "\n",
    "main_dir = 'quickdraw-png_set1/'\n",
    "\n",
    "img = Image.open(os.path.join(main_dir, df.index[99]))\n",
    "img = np.asarray(img, dtype=np.uint8)\n",
    "print(img.shape)\n",
    "plt.imshow(np.array(img), cmap='binary')\n",
    "plt.show()"
   ]
  },
  {
   "cell_type": "markdown",
   "metadata": {},
   "source": [
    "### Create a Custom Data Loader"
   ]
  },
  {
   "cell_type": "code",
   "execution_count": 5,
   "metadata": {},
   "outputs": [],
   "source": [
    "class QuickdrawDataset(Dataset):\n",
    "    \"\"\"Custom Dataset for loading Quickdraw images\"\"\"\n",
    "\n",
    "    def __init__(self, txt_path, img_dir, transform=None):\n",
    "    \n",
    "        df = pd.read_csv(txt_path, sep=\",\", index_col=0)\n",
    "        self.img_dir = img_dir\n",
    "        self.txt_path = txt_path\n",
    "        self.img_names = df.index.values\n",
    "        self.y = df['Label'].values\n",
    "        self.transform = transform\n",
    "\n",
    "    def __getitem__(self, index):\n",
    "        img = Image.open(os.path.join(self.img_dir,\n",
    "                                      self.img_names[index]))\n",
    "        \n",
    "        if self.transform is not None:\n",
    "            img = self.transform(img)\n",
    "        \n",
    "        label = self.y[index]\n",
    "        return img, label\n",
    "\n",
    "    def __len__(self):\n",
    "        return self.y.shape[0]"
   ]
  },
  {
   "cell_type": "code",
   "execution_count": 6,
   "metadata": {},
   "outputs": [],
   "source": [
    "# Note that transforms.ToTensor()\n",
    "# already divides pixels by 255. internally\n",
    "\n",
    "\n",
    "BATCH_SIZE = 128\n",
    "\n",
    "custom_transform = transforms.Compose([#transforms.Lambda(lambda x: x/255.),\n",
    "                                       transforms.ToTensor()])\n",
    "\n",
    "train_dataset = QuickdrawDataset(txt_path='quickdraw_png_set1_train.csv',\n",
    "                                 img_dir='quickdraw-png_set1/',\n",
    "                                 transform=custom_transform)\n",
    "\n",
    "train_loader = DataLoader(dataset=train_dataset,\n",
    "                          batch_size=BATCH_SIZE,\n",
    "                          shuffle=True,\n",
    "                          num_workers=4) \n",
    "\n",
    "\n",
    "valid_dataset = QuickdrawDataset(txt_path='quickdraw_png_set1_valid.csv',\n",
    "                                img_dir='quickdraw-png_set1/',\n",
    "                                transform=custom_transform)\n",
    "\n",
    "valid_loader = DataLoader(dataset=valid_dataset,\n",
    "                          batch_size=BATCH_SIZE,\n",
    "                          shuffle=False,\n",
    "                          num_workers=4) \n",
    "\n",
    "\n",
    "\n",
    "test_dataset = QuickdrawDataset(txt_path='quickdraw_png_set1_train.csv',\n",
    "                                img_dir='quickdraw-png_set1/',\n",
    "                                transform=custom_transform)\n",
    "\n",
    "test_loader = DataLoader(dataset=test_dataset,\n",
    "                         batch_size=BATCH_SIZE,\n",
    "                         shuffle=False,\n",
    "                         num_workers=4) "
   ]
  },
  {
   "cell_type": "code",
   "execution_count": 7,
   "metadata": {},
   "outputs": [
    {
     "name": "stdout",
     "output_type": "stream",
     "text": [
      "Epoch: 1 | Batch index: 0 | Batch size: 128\n",
      "Epoch: 2 | Batch index: 0 | Batch size: 128\n"
     ]
    }
   ],
   "source": [
    "device = torch.device(DEVICE if torch.cuda.is_available() else \"cpu\")\n",
    "torch.manual_seed(0)\n",
    "\n",
    "num_epochs = 2\n",
    "for epoch in range(num_epochs):\n",
    "\n",
    "    for batch_idx, (x, y) in enumerate(train_loader):\n",
    "        \n",
    "        print('Epoch:', epoch+1, end='')\n",
    "        print(' | Batch index:', batch_idx, end='')\n",
    "        print(' | Batch size:', y.size()[0])\n",
    "        \n",
    "        x = x.to(device)\n",
    "        y = y.to(device)\n",
    "        break"
   ]
  },
  {
   "cell_type": "code",
   "execution_count": 8,
   "metadata": {},
   "outputs": [],
   "source": [
    "##########################\n",
    "### MODEL\n",
    "##########################\n",
    "\n",
    "\n",
    "class LeNet5(nn.Module):\n",
    "\n",
    "    def __init__(self, num_classes, grayscale=False):\n",
    "        super(LeNet5, self).__init__()\n",
    "        \n",
    "        self.grayscale = grayscale\n",
    "        self.num_classes = num_classes\n",
    "\n",
    "        if self.grayscale:\n",
    "            in_channels = 1\n",
    "        else:\n",
    "            in_channels = 3\n",
    "\n",
    "        self.features = nn.Sequential(\n",
    "            \n",
    "            nn.Conv2d(in_channels, 6, kernel_size=5),\n",
    "            nn.Tanh(),\n",
    "            nn.MaxPool2d(kernel_size=2),\n",
    "            nn.Conv2d(6, 16, kernel_size=5),\n",
    "            nn.Tanh(),\n",
    "            nn.MaxPool2d(kernel_size=2)\n",
    "        )\n",
    "\n",
    "        self.classifier = nn.Sequential(\n",
    "            nn.Linear(16*4*4, 120),\n",
    "            nn.Tanh(),\n",
    "            nn.Linear(120, 84),\n",
    "            nn.Tanh(),\n",
    "            nn.Linear(84, num_classes),\n",
    "        )\n",
    "\n",
    "\n",
    "    def forward(self, x):\n",
    "        x = self.features(x)\n",
    "        x = torch.flatten(x, 1)\n",
    "        logits = self.classifier(x)\n",
    "        probas = F.softmax(logits, dim=1)\n",
    "        return logits, probas"
   ]
  },
  {
   "cell_type": "code",
   "execution_count": 9,
   "metadata": {
    "colab": {
     "autoexec": {
      "startup": false,
      "wait_interval": 0
     }
    },
    "colab_type": "code",
    "id": "_lza9t_uj5w1"
   },
   "outputs": [],
   "source": [
    "torch.manual_seed(RANDOM_SEED)\n",
    "\n",
    "model = LeNet5(NUM_CLASSES, GRAYSCALE)\n",
    "model = model.to(DEVICE)\n",
    "\n",
    "optimizer = torch.optim.Adam(model.parameters(), lr=LEARNING_RATE)  "
   ]
  },
  {
   "cell_type": "code",
   "execution_count": 10,
   "metadata": {},
   "outputs": [
    {
     "data": {
      "text/plain": [
       "'\\nmodel.features[0].register_forward_hook(print_sizes)\\nmodel.features[1].register_forward_hook(print_sizes)\\nmodel.features[2].register_forward_hook(print_sizes)\\nmodel.features[3].register_forward_hook(print_sizes)\\n\\nmodel.classifier[0].register_forward_hook(print_sizes)\\nmodel.classifier[1].register_forward_hook(print_sizes)\\nmodel.classifier[2].register_forward_hook(print_sizes)\\n'"
      ]
     },
     "execution_count": 10,
     "metadata": {},
     "output_type": "execute_result"
    }
   ],
   "source": [
    "def print_sizes(self, input, output):\n",
    "\n",
    "    print('Inside ' + self.__class__.__name__ + ' forward')\n",
    "    print('input size:', input[0].size())\n",
    "    print('output size:', output.data.size())\n",
    "\n",
    "    \n",
    "## Debugging\n",
    "\n",
    "\"\"\"\n",
    "model.features[0].register_forward_hook(print_sizes)\n",
    "model.features[1].register_forward_hook(print_sizes)\n",
    "model.features[2].register_forward_hook(print_sizes)\n",
    "model.features[3].register_forward_hook(print_sizes)\n",
    "\n",
    "model.classifier[0].register_forward_hook(print_sizes)\n",
    "model.classifier[1].register_forward_hook(print_sizes)\n",
    "model.classifier[2].register_forward_hook(print_sizes)\n",
    "\"\"\""
   ]
  },
  {
   "cell_type": "markdown",
   "metadata": {
    "colab_type": "text",
    "id": "RAodboScj5w6"
   },
   "source": [
    "## Training"
   ]
  },
  {
   "cell_type": "code",
   "execution_count": 11,
   "metadata": {
    "colab": {
     "autoexec": {
      "startup": false,
      "wait_interval": 0
     },
     "base_uri": "https://localhost:8080/",
     "height": 1547
    },
    "colab_type": "code",
    "executionInfo": {
     "elapsed": 2384585,
     "status": "ok",
     "timestamp": 1524976888520,
     "user": {
      "displayName": "Sebastian Raschka",
      "photoUrl": "//lh6.googleusercontent.com/-cxK6yOSQ6uE/AAAAAAAAAAI/AAAAAAAAIfw/P9ar_CHsKOQ/s50-c-k-no/photo.jpg",
      "userId": "118404394130788869227"
     },
     "user_tz": 240
    },
    "id": "Dzh3ROmRj5w7",
    "outputId": "5f8fd8c9-b076-403a-b0b7-fd2d498b48d7"
   },
   "outputs": [
    {
     "name": "stdout",
     "output_type": "stream",
     "text": [
      "Epoch: 001/010 | Batch 0000/8290 | Cost: 2.3096\n",
      "Epoch: 001/010 | Batch 0500/8290 | Cost: 0.6812\n",
      "Epoch: 001/010 | Batch 1000/8290 | Cost: 0.4123\n",
      "Epoch: 001/010 | Batch 1500/8290 | Cost: 0.2931\n",
      "Epoch: 001/010 | Batch 2000/8290 | Cost: 0.3878\n",
      "Epoch: 001/010 | Batch 2500/8290 | Cost: 0.2494\n",
      "Epoch: 001/010 | Batch 3000/8290 | Cost: 0.3749\n",
      "Epoch: 001/010 | Batch 3500/8290 | Cost: 0.3393\n",
      "Epoch: 001/010 | Batch 4000/8290 | Cost: 0.4072\n",
      "Epoch: 001/010 | Batch 4500/8290 | Cost: 0.2639\n",
      "Epoch: 001/010 | Batch 5000/8290 | Cost: 0.4709\n",
      "Epoch: 001/010 | Batch 5500/8290 | Cost: 0.3594\n",
      "Epoch: 001/010 | Batch 6000/8290 | Cost: 0.4542\n",
      "Epoch: 001/010 | Batch 6500/8290 | Cost: 0.2887\n",
      "Epoch: 001/010 | Batch 7000/8290 | Cost: 0.3441\n",
      "Epoch: 001/010 | Batch 7500/8290 | Cost: 0.2771\n",
      "Epoch: 001/010 | Batch 8000/8290 | Cost: 0.4163\n",
      "Epoch: 001/010 | Train: 90.619% | Validation: 90.339%\n",
      "Time elapsed: 3.36 min\n",
      "Epoch: 002/010 | Batch 0000/8290 | Cost: 0.3799\n",
      "Epoch: 002/010 | Batch 0500/8290 | Cost: 0.2720\n",
      "Epoch: 002/010 | Batch 1000/8290 | Cost: 0.3350\n",
      "Epoch: 002/010 | Batch 1500/8290 | Cost: 0.3859\n",
      "Epoch: 002/010 | Batch 2000/8290 | Cost: 0.2861\n",
      "Epoch: 002/010 | Batch 2500/8290 | Cost: 0.4202\n",
      "Epoch: 002/010 | Batch 3000/8290 | Cost: 0.3077\n",
      "Epoch: 002/010 | Batch 3500/8290 | Cost: 0.3045\n",
      "Epoch: 002/010 | Batch 4000/8290 | Cost: 0.1604\n",
      "Epoch: 002/010 | Batch 4500/8290 | Cost: 0.2022\n",
      "Epoch: 002/010 | Batch 5000/8290 | Cost: 0.2315\n",
      "Epoch: 002/010 | Batch 5500/8290 | Cost: 0.2880\n",
      "Epoch: 002/010 | Batch 6000/8290 | Cost: 0.2055\n",
      "Epoch: 002/010 | Batch 6500/8290 | Cost: 0.5247\n",
      "Epoch: 002/010 | Batch 7000/8290 | Cost: 0.4131\n",
      "Epoch: 002/010 | Batch 7500/8290 | Cost: 0.2302\n",
      "Epoch: 002/010 | Batch 8000/8290 | Cost: 0.2234\n",
      "Epoch: 002/010 | Train: 91.823% | Validation: 91.486%\n",
      "Time elapsed: 5.58 min\n",
      "Epoch: 003/010 | Batch 0000/8290 | Cost: 0.3333\n",
      "Epoch: 003/010 | Batch 0500/8290 | Cost: 0.3250\n",
      "Epoch: 003/010 | Batch 1000/8290 | Cost: 0.2323\n",
      "Epoch: 003/010 | Batch 1500/8290 | Cost: 0.2834\n",
      "Epoch: 003/010 | Batch 2000/8290 | Cost: 0.3315\n",
      "Epoch: 003/010 | Batch 2500/8290 | Cost: 0.3029\n",
      "Epoch: 003/010 | Batch 3000/8290 | Cost: 0.2193\n",
      "Epoch: 003/010 | Batch 3500/8290 | Cost: 0.1904\n",
      "Epoch: 003/010 | Batch 4000/8290 | Cost: 0.2865\n",
      "Epoch: 003/010 | Batch 4500/8290 | Cost: 0.2746\n",
      "Epoch: 003/010 | Batch 5000/8290 | Cost: 0.3442\n",
      "Epoch: 003/010 | Batch 5500/8290 | Cost: 0.2003\n",
      "Epoch: 003/010 | Batch 6000/8290 | Cost: 0.3828\n",
      "Epoch: 003/010 | Batch 6500/8290 | Cost: 0.2139\n",
      "Epoch: 003/010 | Batch 7000/8290 | Cost: 0.2914\n",
      "Epoch: 003/010 | Batch 7500/8290 | Cost: 0.2799\n",
      "Epoch: 003/010 | Batch 8000/8290 | Cost: 0.2144\n",
      "Epoch: 003/010 | Train: 92.152% | Validation: 91.699%\n",
      "Time elapsed: 7.79 min\n",
      "Epoch: 004/010 | Batch 0000/8290 | Cost: 0.1746\n",
      "Epoch: 004/010 | Batch 0500/8290 | Cost: 0.3684\n",
      "Epoch: 004/010 | Batch 1000/8290 | Cost: 0.3992\n",
      "Epoch: 004/010 | Batch 1500/8290 | Cost: 0.3352\n",
      "Epoch: 004/010 | Batch 2000/8290 | Cost: 0.2877\n",
      "Epoch: 004/010 | Batch 2500/8290 | Cost: 0.2366\n",
      "Epoch: 004/010 | Batch 3000/8290 | Cost: 0.3215\n",
      "Epoch: 004/010 | Batch 3500/8290 | Cost: 0.1784\n",
      "Epoch: 004/010 | Batch 4000/8290 | Cost: 0.3136\n",
      "Epoch: 004/010 | Batch 4500/8290 | Cost: 0.3379\n",
      "Epoch: 004/010 | Batch 5000/8290 | Cost: 0.3069\n",
      "Epoch: 004/010 | Batch 5500/8290 | Cost: 0.1735\n",
      "Epoch: 004/010 | Batch 6000/8290 | Cost: 0.1910\n",
      "Epoch: 004/010 | Batch 6500/8290 | Cost: 0.3131\n",
      "Epoch: 004/010 | Batch 7000/8290 | Cost: 0.2566\n",
      "Epoch: 004/010 | Batch 7500/8290 | Cost: 0.2888\n",
      "Epoch: 004/010 | Batch 8000/8290 | Cost: 0.3298\n",
      "Epoch: 004/010 | Train: 92.251% | Validation: 91.693%\n",
      "Time elapsed: 10.01 min\n",
      "Epoch: 005/010 | Batch 0000/8290 | Cost: 0.2621\n",
      "Epoch: 005/010 | Batch 0500/8290 | Cost: 0.1341\n",
      "Epoch: 005/010 | Batch 1000/8290 | Cost: 0.2740\n",
      "Epoch: 005/010 | Batch 1500/8290 | Cost: 0.2190\n",
      "Epoch: 005/010 | Batch 2000/8290 | Cost: 0.2355\n",
      "Epoch: 005/010 | Batch 2500/8290 | Cost: 0.2771\n",
      "Epoch: 005/010 | Batch 3000/8290 | Cost: 0.3470\n",
      "Epoch: 005/010 | Batch 3500/8290 | Cost: 0.1613\n",
      "Epoch: 005/010 | Batch 4000/8290 | Cost: 0.3326\n",
      "Epoch: 005/010 | Batch 4500/8290 | Cost: 0.2114\n",
      "Epoch: 005/010 | Batch 5000/8290 | Cost: 0.3249\n",
      "Epoch: 005/010 | Batch 5500/8290 | Cost: 0.2614\n",
      "Epoch: 005/010 | Batch 6000/8290 | Cost: 0.2974\n",
      "Epoch: 005/010 | Batch 6500/8290 | Cost: 0.2653\n",
      "Epoch: 005/010 | Batch 7000/8290 | Cost: 0.1659\n",
      "Epoch: 005/010 | Batch 7500/8290 | Cost: 0.3587\n",
      "Epoch: 005/010 | Batch 8000/8290 | Cost: 0.1271\n",
      "Epoch: 005/010 | Train: 92.575% | Validation: 91.995%\n",
      "Time elapsed: 12.21 min\n",
      "Epoch: 006/010 | Batch 0000/8290 | Cost: 0.1457\n",
      "Epoch: 006/010 | Batch 0500/8290 | Cost: 0.2908\n",
      "Epoch: 006/010 | Batch 1000/8290 | Cost: 0.3151\n",
      "Epoch: 006/010 | Batch 1500/8290 | Cost: 0.3322\n",
      "Epoch: 006/010 | Batch 2000/8290 | Cost: 0.2056\n",
      "Epoch: 006/010 | Batch 2500/8290 | Cost: 0.2625\n",
      "Epoch: 006/010 | Batch 3000/8290 | Cost: 0.2600\n",
      "Epoch: 006/010 | Batch 3500/8290 | Cost: 0.3253\n",
      "Epoch: 006/010 | Batch 4000/8290 | Cost: 0.1884\n",
      "Epoch: 006/010 | Batch 4500/8290 | Cost: 0.2553\n",
      "Epoch: 006/010 | Batch 5000/8290 | Cost: 0.3106\n",
      "Epoch: 006/010 | Batch 5500/8290 | Cost: 0.1887\n",
      "Epoch: 006/010 | Batch 6000/8290 | Cost: 0.2765\n",
      "Epoch: 006/010 | Batch 6500/8290 | Cost: 0.1896\n",
      "Epoch: 006/010 | Batch 7000/8290 | Cost: 0.2351\n",
      "Epoch: 006/010 | Batch 7500/8290 | Cost: 0.1942\n",
      "Epoch: 006/010 | Batch 8000/8290 | Cost: 0.2452\n",
      "Epoch: 006/010 | Train: 92.768% | Validation: 92.084%\n",
      "Time elapsed: 14.44 min\n",
      "Epoch: 007/010 | Batch 0000/8290 | Cost: 0.2731\n",
      "Epoch: 007/010 | Batch 0500/8290 | Cost: 0.1256\n",
      "Epoch: 007/010 | Batch 1000/8290 | Cost: 0.2282\n",
      "Epoch: 007/010 | Batch 1500/8290 | Cost: 0.2288\n",
      "Epoch: 007/010 | Batch 2000/8290 | Cost: 0.1315\n",
      "Epoch: 007/010 | Batch 2500/8290 | Cost: 0.2518\n",
      "Epoch: 007/010 | Batch 3000/8290 | Cost: 0.3285\n",
      "Epoch: 007/010 | Batch 3500/8290 | Cost: 0.2102\n",
      "Epoch: 007/010 | Batch 4000/8290 | Cost: 0.1955\n",
      "Epoch: 007/010 | Batch 4500/8290 | Cost: 0.1690\n",
      "Epoch: 007/010 | Batch 5000/8290 | Cost: 0.1595\n",
      "Epoch: 007/010 | Batch 5500/8290 | Cost: 0.2186\n",
      "Epoch: 007/010 | Batch 6000/8290 | Cost: 0.2465\n",
      "Epoch: 007/010 | Batch 6500/8290 | Cost: 0.2922\n",
      "Epoch: 007/010 | Batch 7000/8290 | Cost: 0.2836\n",
      "Epoch: 007/010 | Batch 7500/8290 | Cost: 0.1863\n",
      "Epoch: 007/010 | Batch 8000/8290 | Cost: 0.1654\n",
      "Epoch: 007/010 | Train: 92.966% | Validation: 92.307%\n",
      "Time elapsed: 16.70 min\n",
      "Epoch: 008/010 | Batch 0000/8290 | Cost: 0.2479\n",
      "Epoch: 008/010 | Batch 0500/8290 | Cost: 0.2505\n",
      "Epoch: 008/010 | Batch 1000/8290 | Cost: 0.3280\n",
      "Epoch: 008/010 | Batch 1500/8290 | Cost: 0.3119\n",
      "Epoch: 008/010 | Batch 2000/8290 | Cost: 0.3892\n",
      "Epoch: 008/010 | Batch 2500/8290 | Cost: 0.3371\n",
      "Epoch: 008/010 | Batch 3000/8290 | Cost: 0.3909\n",
      "Epoch: 008/010 | Batch 3500/8290 | Cost: 0.2831\n",
      "Epoch: 008/010 | Batch 4000/8290 | Cost: 0.2730\n",
      "Epoch: 008/010 | Batch 4500/8290 | Cost: 0.1258\n",
      "Epoch: 008/010 | Batch 5000/8290 | Cost: 0.2155\n",
      "Epoch: 008/010 | Batch 5500/8290 | Cost: 0.2419\n",
      "Epoch: 008/010 | Batch 6000/8290 | Cost: 0.2309\n",
      "Epoch: 008/010 | Batch 6500/8290 | Cost: 0.2843\n",
      "Epoch: 008/010 | Batch 7000/8290 | Cost: 0.2820\n",
      "Epoch: 008/010 | Batch 7500/8290 | Cost: 0.1245\n",
      "Epoch: 008/010 | Batch 8000/8290 | Cost: 0.3503\n",
      "Epoch: 008/010 | Train: 92.978% | Validation: 92.270%\n",
      "Time elapsed: 18.94 min\n",
      "Epoch: 009/010 | Batch 0000/8290 | Cost: 0.2116\n",
      "Epoch: 009/010 | Batch 0500/8290 | Cost: 0.3477\n",
      "Epoch: 009/010 | Batch 1000/8290 | Cost: 0.1537\n",
      "Epoch: 009/010 | Batch 1500/8290 | Cost: 0.2932\n",
      "Epoch: 009/010 | Batch 2000/8290 | Cost: 0.2075\n",
      "Epoch: 009/010 | Batch 2500/8290 | Cost: 0.2520\n",
      "Epoch: 009/010 | Batch 3000/8290 | Cost: 0.1347\n",
      "Epoch: 009/010 | Batch 3500/8290 | Cost: 0.1800\n",
      "Epoch: 009/010 | Batch 4000/8290 | Cost: 0.2365\n",
      "Epoch: 009/010 | Batch 4500/8290 | Cost: 0.2445\n",
      "Epoch: 009/010 | Batch 5000/8290 | Cost: 0.1622\n",
      "Epoch: 009/010 | Batch 5500/8290 | Cost: 0.1989\n",
      "Epoch: 009/010 | Batch 6000/8290 | Cost: 0.1404\n",
      "Epoch: 009/010 | Batch 6500/8290 | Cost: 0.1281\n",
      "Epoch: 009/010 | Batch 7000/8290 | Cost: 0.3659\n",
      "Epoch: 009/010 | Batch 7500/8290 | Cost: 0.2559\n",
      "Epoch: 009/010 | Batch 8000/8290 | Cost: 0.2351\n",
      "Epoch: 009/010 | Train: 93.070% | Validation: 92.308%\n",
      "Time elapsed: 21.15 min\n",
      "Epoch: 010/010 | Batch 0000/8290 | Cost: 0.1964\n",
      "Epoch: 010/010 | Batch 0500/8290 | Cost: 0.1686\n",
      "Epoch: 010/010 | Batch 1000/8290 | Cost: 0.2819\n",
      "Epoch: 010/010 | Batch 1500/8290 | Cost: 0.1610\n",
      "Epoch: 010/010 | Batch 2000/8290 | Cost: 0.1473\n",
      "Epoch: 010/010 | Batch 2500/8290 | Cost: 0.2996\n",
      "Epoch: 010/010 | Batch 3000/8290 | Cost: 0.2584\n",
      "Epoch: 010/010 | Batch 3500/8290 | Cost: 0.3147\n",
      "Epoch: 010/010 | Batch 4000/8290 | Cost: 0.1333\n",
      "Epoch: 010/010 | Batch 4500/8290 | Cost: 0.2588\n",
      "Epoch: 010/010 | Batch 5000/8290 | Cost: 0.1896\n",
      "Epoch: 010/010 | Batch 5500/8290 | Cost: 0.3248\n",
      "Epoch: 010/010 | Batch 6000/8290 | Cost: 0.3710\n",
      "Epoch: 010/010 | Batch 6500/8290 | Cost: 0.3223\n",
      "Epoch: 010/010 | Batch 7000/8290 | Cost: 0.1774\n",
      "Epoch: 010/010 | Batch 7500/8290 | Cost: 0.3240\n",
      "Epoch: 010/010 | Batch 8000/8290 | Cost: 0.2755\n",
      "Epoch: 010/010 | Train: 93.128% | Validation: 92.364%\n",
      "Time elapsed: 23.37 min\n",
      "Total Training Time: 23.37 min\n"
     ]
    }
   ],
   "source": [
    "def compute_accuracy(model, data_loader, device):\n",
    "    correct_pred, num_examples = 0, 0\n",
    "    for i, (features, targets) in enumerate(data_loader):\n",
    "            \n",
    "        features = features.to(device)\n",
    "        targets = targets.to(device)\n",
    "\n",
    "        logits, probas = model(features)\n",
    "        _, predicted_labels = torch.max(probas, 1)\n",
    "        num_examples += targets.size(0)\n",
    "        correct_pred += (predicted_labels == targets).sum()\n",
    "    return correct_pred.float()/num_examples * 100\n",
    "    \n",
    "\n",
    "start_time = time.time()\n",
    "for epoch in range(NUM_EPOCHS):\n",
    "    \n",
    "    model.train()\n",
    "    for batch_idx, (features, targets) in enumerate(train_loader):\n",
    "        \n",
    "        features = features.to(DEVICE)\n",
    "        targets = targets.to(DEVICE)\n",
    "            \n",
    "        ### FORWARD AND BACK PROP\n",
    "        logits, probas = model(features)\n",
    "        cost = F.cross_entropy(logits, targets)\n",
    "        optimizer.zero_grad()\n",
    "        \n",
    "        cost.backward()\n",
    "        \n",
    "        ### UPDATE MODEL PARAMETERS\n",
    "        optimizer.step()\n",
    "        \n",
    "        ### LOGGING\n",
    "        if not batch_idx % 500:\n",
    "            print ('Epoch: %03d/%03d | Batch %04d/%04d | Cost: %.4f' \n",
    "                   %(epoch+1, NUM_EPOCHS, batch_idx, \n",
    "                     len(train_loader), cost))\n",
    "\n",
    "\n",
    "    model.eval()\n",
    "    with torch.set_grad_enabled(False): # save memory during inference\n",
    "        print('Epoch: %03d/%03d | Train: %.3f%% | Validation: %.3f%%' % (\n",
    "              epoch+1, NUM_EPOCHS, \n",
    "              compute_accuracy(model, train_loader, device=DEVICE),\n",
    "              compute_accuracy(model, valid_loader, device=DEVICE) ))\n",
    "        \n",
    "    print('Time elapsed: %.2f min' % ((time.time() - start_time)/60))\n",
    "    \n",
    "print('Total Training Time: %.2f min' % ((time.time() - start_time)/60))"
   ]
  },
  {
   "cell_type": "markdown",
   "metadata": {
    "colab_type": "text",
    "id": "paaeEQHQj5xC"
   },
   "source": [
    "## Evaluation"
   ]
  },
  {
   "cell_type": "code",
   "execution_count": 12,
   "metadata": {
    "colab": {
     "autoexec": {
      "startup": false,
      "wait_interval": 0
     },
     "base_uri": "https://localhost:8080/",
     "height": 34
    },
    "colab_type": "code",
    "executionInfo": {
     "elapsed": 6514,
     "status": "ok",
     "timestamp": 1524976895054,
     "user": {
      "displayName": "Sebastian Raschka",
      "photoUrl": "//lh6.googleusercontent.com/-cxK6yOSQ6uE/AAAAAAAAAAI/AAAAAAAAIfw/P9ar_CHsKOQ/s50-c-k-no/photo.jpg",
      "userId": "118404394130788869227"
     },
     "user_tz": 240
    },
    "id": "gzQMWKq5j5xE",
    "outputId": "de7dc005-5eeb-4177-9f9f-d9b5d1358db9"
   },
   "outputs": [
    {
     "name": "stdout",
     "output_type": "stream",
     "text": [
      "Test accuracy: 93.13%\n"
     ]
    }
   ],
   "source": [
    "with torch.set_grad_enabled(False): # save memory during inference\n",
    "    print('Test accuracy: %.2f%%' % (compute_accuracy(model, test_loader, device=DEVICE)))"
   ]
  },
  {
   "cell_type": "code",
   "execution_count": 13,
   "metadata": {},
   "outputs": [
    {
     "data": {
      "image/png": "[encoded data removed]",
      "text/plain": [
       "<Figure size 432x288 with 1 Axes>"
      ]
     },
     "metadata": {
      "needs_background": "light"
     },
     "output_type": "display_data"
    }
   ],
   "source": [
    "for batch_idx, (features, targets) in enumerate(test_loader):\n",
    "\n",
    "    features = features\n",
    "    targets = targets\n",
    "    break\n",
    "    \n",
    "    \n",
    "nhwc_img = np.transpose(features[5], axes=(1, 2, 0))\n",
    "nhw_img = np.squeeze(nhwc_img.numpy(), axis=2)\n",
    "plt.imshow(nhw_img, cmap='Greys');"
   ]
  },
  {
   "cell_type": "code",
   "execution_count": 14,
   "metadata": {},
   "outputs": [
    {
     "name": "stdout",
     "output_type": "stream",
     "text": [
      "Probability Washing Machine 99.83%\n"
     ]
    }
   ],
   "source": [
    "model.eval()\n",
    "logits, probas = model(features.to(device)[0, None])\n",
    "print('Probability Washing Machine %.2f%%' % (probas[0][4]*100))"
   ]
  },
  {
   "cell_type": "code",
   "execution_count": 15,
   "metadata": {},
   "outputs": [
    {
     "name": "stdout",
     "output_type": "stream",
     "text": [
      "torch       1.3.1\n",
      "numpy       1.17.4\n",
      "PIL.Image   6.2.1\n",
      "torchvision 0.4.2\n",
      "matplotlib  3.1.0\n",
      "pandas      0.24.2\n",
      "\n"
     ]
    }
   ],
   "source": [
    "%watermark -iv"
   ]
  }
 ],
 "metadata": {
  "accelerator": "GPU",
  "colab": {
   "collapsed_sections": [],
   "default_view": {},
   "name": "convnet-vgg16.ipynb",
   "provenance": [],
   "version": "0.3.2",
   "views": {}
  },
  "kernelspec": {
   "display_name": "Python 3 (ipykernel)",
   "language": "python",
   "name": "python3"
  },
  "language_info": {
   "codemirror_mode": {
    "name": "ipython",
    "version": 3
   },
   "file_extension": ".py",
   "mimetype": "text/x-python",
   "name": "python",
   "nbconvert_exporter": "python",
   "pygments_lexer": "ipython3",
   "version": "3.9.7"
  },
  "toc": {
   "nav_menu": {},
   "number_sections": true,
   "sideBar": true,
   "skip_h1_title": false,
   "title_cell": "Table of Contents",
   "title_sidebar": "Contents",
   "toc_cell": true,
   "toc_position": {
    "height": "calc(100% - 180px)",
    "left": "10px",
    "top": "150px",
    "width": "371px"
   },
   "toc_section_display": true,
   "toc_window_display": true
  }
 },
 "nbformat": 4,
 "nbformat_minor": 4
}
