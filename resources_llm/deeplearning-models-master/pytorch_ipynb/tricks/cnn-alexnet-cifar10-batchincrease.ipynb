{
 "cells": [
  {
   "cell_type": "markdown",
   "metadata": {
    "colab_type": "text",
    "id": "UEBilEjLj5wY"
   },
   "source": [
    "Deep Learning Models -- A collection of various deep learning architectures, models, and tips for TensorFlow and PyTorch in Jupyter Notebooks.\n",
    "- Author: Sebastian Raschka\n",
    "- GitHub Repository: https://github.com/rasbt/deeplearning-models"
   ]
  },
  {
   "cell_type": "code",
   "execution_count": 1,
   "metadata": {
    "colab": {
     "autoexec": {
      "startup": false,
      "wait_interval": 0
     },
     "base_uri": "https://localhost:8080/",
     "height": 119
    },
    "colab_type": "code",
    "executionInfo": {
     "elapsed": 536,
     "status": "ok",
     "timestamp": 1524974472601,
     "user": {
      "displayName": "Sebastian Raschka",
      "photoUrl": "//lh6.googleusercontent.com/-cxK6yOSQ6uE/AAAAAAAAAAI/AAAAAAAAIfw/P9ar_CHsKOQ/s50-c-k-no/photo.jpg",
      "userId": "118404394130788869227"
     },
     "user_tz": 240
    },
    "id": "GOzuY8Yvj5wb",
    "outputId": "c19362ce-f87a-4cc2-84cc-8d7b4b9e6007"
   },
   "outputs": [
    {
     "name": "stdout",
     "output_type": "stream",
     "text": [
      "Sebastian Raschka \n",
      "\n",
      "CPython 3.7.3\n",
      "IPython 7.6.1\n",
      "\n",
      "torch 1.1.0\n"
     ]
    }
   ],
   "source": [
    "%load_ext watermark\n",
    "%watermark -a 'Sebastian Raschka' -v -p torch"
   ]
  },
  {
   "cell_type": "markdown",
   "metadata": {
    "colab_type": "text",
    "id": "rH4XmErYj5wm"
   },
   "source": [
    "# Increase the Batch Size (AlexNet CIFAR-10 Classifier)"
   ]
  },
  {
   "cell_type": "markdown",
   "metadata": {},
   "source": [
    "This is a notebook experimenting with increasing the batch size during training, which is inspired by the paper\n",
    "\n",
    "- Smith, S. L., Kindermans, P. J., Ying, C., & Le, Q. V. (2017). Don't decay the learning rate, increase the batch size. arXiv preprint arXiv:1711.00489.\n",
    "\n",
    "To summarize the main points of the paper:\n",
    "\n",
    "- Stochastic gradient descent adds noise to the optimization problem; during the early training epochs, this noise helps with exploring the loss landscape, and in general, it helps with escaping sharp minima which are known to be bad for generalization.\n",
    "\n",
    "- However, during the course of the training process, one wants to decay the learning rate gradually (like simulated annealing) for fine-tuning, i.e., to help with convergence\n",
    "\n",
    "- Due to the relationship between learning rate, batch size, and momentum, one can also just increase the batch size instead of decreasing the learning rate to reduce the noise. This way, more training examples can be used in each update and fewer steps (parameter updates) overall may be required to converge.\n",
    "\n",
    "The relationship between learning rate and batch size is as follows:\n",
    "\n",
    "\n",
    "$$g=\\epsilon\\left(\\frac{N}{B}-1\\right),$$\n",
    "\n",
    "where $\\epsilon$ is the learning rate, $B$ is the batch size, and $N$ is the number of training examples\n",
    "\n",
    "Or, with added momentum term, this becomes:\n",
    "\n",
    "$$\\begin{aligned} g &=\\frac{\\epsilon}{1-m}\\left(\\frac{N}{B}-1\\right) \\\\ & \\approx \\frac{\\epsilon N}{B(1-m)} \\end{aligned}.$$"
   ]
  },
  {
   "cell_type": "markdown",
   "metadata": {},
   "source": [
    "### Network Architecture"
   ]
  },
  {
   "cell_type": "markdown",
   "metadata": {},
   "source": [
    "In this notebook, the CIFAR-10 dataset is used for training a classic AlexNet network [1] for classification:\n",
    "    \n",
    "- [1] Krizhevsky, Alex, Ilya Sutskever, and Geoffrey E. Hinton. \"[Imagenet classification with deep convolutional neural networks.](https://papers.nips.cc/paper/4824-imagenet-classification-with-deep-convolutional-neural-networks.pdf)\" In Advances in Neural Information Processing Systems, pp. 1097-1105. 2012.\n"
   ]
  },
  {
   "cell_type": "markdown",
   "metadata": {
    "colab_type": "text",
    "id": "MkoGLH_Tj5wn"
   },
   "source": [
    "## Imports"
   ]
  },
  {
   "cell_type": "code",
   "execution_count": 2,
   "metadata": {
    "colab": {
     "autoexec": {
      "startup": false,
      "wait_interval": 0
     }
    },
    "colab_type": "code",
    "id": "ORj09gnrj5wp"
   },
   "outputs": [],
   "source": [
    "import os\n",
    "import time\n",
    "\n",
    "import numpy as np\n",
    "import pandas as pd\n",
    "\n",
    "import torch\n",
    "import torch.nn as nn\n",
    "import torch.nn.functional as F\n",
    "from torch.utils.data import DataLoader\n",
    "from torch.utils.data.dataset import Subset\n",
    "\n",
    "from torchvision import datasets\n",
    "from torchvision import transforms\n",
    "\n",
    "import matplotlib.pyplot as plt\n",
    "from PIL import Image\n",
    "\n",
    "\n",
    "if torch.cuda.is_available():\n",
    "    torch.backends.cudnn.deterministic = True"
   ]
  },
  {
   "cell_type": "code",
   "execution_count": 3,
   "metadata": {},
   "outputs": [],
   "source": [
    "import matplotlib.pyplot as plt\n",
    "%matplotlib inline"
   ]
  },
  {
   "cell_type": "markdown",
   "metadata": {
    "colab_type": "text",
    "id": "I6hghKPxj5w0"
   },
   "source": [
    "## Model Settings"
   ]
  },
  {
   "cell_type": "code",
   "execution_count": 4,
   "metadata": {
    "colab": {
     "autoexec": {
      "startup": false,
      "wait_interval": 0
     },
     "base_uri": "https://localhost:8080/",
     "height": 85
    },
    "colab_type": "code",
    "executionInfo": {
     "elapsed": 23936,
     "status": "ok",
     "timestamp": 1524974497505,
     "user": {
      "displayName": "Sebastian Raschka",
      "photoUrl": "//lh6.googleusercontent.com/-cxK6yOSQ6uE/AAAAAAAAAAI/AAAAAAAAIfw/P9ar_CHsKOQ/s50-c-k-no/photo.jpg",
      "userId": "118404394130788869227"
     },
     "user_tz": 240
    },
    "id": "NnT0sZIwj5wu",
    "outputId": "55aed925-d17e-4c6a-8c71-0d9b3bde5637"
   },
   "outputs": [],
   "source": [
    "##########################\n",
    "### SETTINGS\n",
    "##########################\n",
    "\n",
    "# Hyperparameters\n",
    "RANDOM_SEED = 1\n",
    "LEARNING_RATE = 0.0001\n",
    "BATCH_SIZE = 256\n",
    "NUM_EPOCHS = 40\n",
    "\n",
    "# Architecture\n",
    "NUM_CLASSES = 10\n",
    "\n",
    "# Other\n",
    "DEVICE = \"cuda:0\""
   ]
  },
  {
   "cell_type": "markdown",
   "metadata": {},
   "source": [
    "## Dataset"
   ]
  },
  {
   "cell_type": "code",
   "execution_count": 5,
   "metadata": {},
   "outputs": [
    {
     "name": "stdout",
     "output_type": "stream",
     "text": [
      "Files already downloaded and verified\n"
     ]
    }
   ],
   "source": [
    "train_indices = torch.arange(0, 48000)\n",
    "valid_indices = torch.arange(48000, 50000)\n",
    "\n",
    "\n",
    "train_transform = transforms.Compose([transforms.Resize((70, 70)),\n",
    "                                      transforms.RandomCrop((64, 64)),\n",
    "                                      transforms.ToTensor()])\n",
    "\n",
    "test_transform = transforms.Compose([transforms.Resize((70, 70)),\n",
    "                                     transforms.CenterCrop((64, 64)),\n",
    "                                     transforms.ToTensor()])\n",
    "\n",
    "train_and_valid = datasets.CIFAR10(root='data', \n",
    "                                   train=True, \n",
    "                                   transform=train_transform,\n",
    "                                   download=True)\n",
    "\n",
    "train_dataset = Subset(train_and_valid, train_indices)\n",
    "valid_dataset = Subset(train_and_valid, valid_indices)\n",
    "test_dataset = datasets.CIFAR10(root='data', \n",
    "                                train=False, \n",
    "                                transform=test_transform,\n",
    "                                download=False)\n",
    "\n",
    "\n",
    "\n",
    "\n",
    "train_loader = DataLoader(dataset=train_dataset, \n",
    "                          batch_size=BATCH_SIZE,\n",
    "                          num_workers=4,\n",
    "                          shuffle=True)\n",
    "\n",
    "valid_loader = DataLoader(dataset=valid_dataset, \n",
    "                          batch_size=BATCH_SIZE,\n",
    "                          num_workers=4,\n",
    "                          shuffle=False)\n",
    "\n",
    "test_loader = DataLoader(dataset=test_dataset, \n",
    "                         batch_size=BATCH_SIZE,\n",
    "                         num_workers=4,\n",
    "                         shuffle=False)"
   ]
  },
  {
   "cell_type": "code",
   "execution_count": 6,
   "metadata": {},
   "outputs": [
    {
     "name": "stdout",
     "output_type": "stream",
     "text": [
      "Training Set:\n",
      "\n",
      "Image batch dimensions: torch.Size([256, 3, 64, 64])\n",
      "Image label dimensions: torch.Size([256])\n",
      "\n",
      "Validation Set:\n",
      "Image batch dimensions: torch.Size([256, 3, 64, 64])\n",
      "Image label dimensions: torch.Size([256])\n",
      "\n",
      "Testing Set:\n",
      "Image batch dimensions: torch.Size([256, 3, 64, 64])\n",
      "Image label dimensions: torch.Size([256])\n"
     ]
    }
   ],
   "source": [
    "# Checking the dataset\n",
    "print('Training Set:\\n')\n",
    "for images, labels in train_loader:  \n",
    "    print('Image batch dimensions:', images.size())\n",
    "    print('Image label dimensions:', labels.size())\n",
    "    break\n",
    "    \n",
    "# Checking the dataset\n",
    "print('\\nValidation Set:')\n",
    "for images, labels in valid_loader:  \n",
    "    print('Image batch dimensions:', images.size())\n",
    "    print('Image label dimensions:', labels.size())\n",
    "    break\n",
    "\n",
    "# Checking the dataset\n",
    "print('\\nTesting Set:')\n",
    "for images, labels in train_loader:  \n",
    "    print('Image batch dimensions:', images.size())\n",
    "    print('Image label dimensions:', labels.size())\n",
    "    break"
   ]
  },
  {
   "cell_type": "markdown",
   "metadata": {},
   "source": [
    "## Model"
   ]
  },
  {
   "cell_type": "code",
   "execution_count": 7,
   "metadata": {},
   "outputs": [],
   "source": [
    "##########################\n",
    "### MODEL\n",
    "##########################\n",
    "\n",
    "class AlexNet(nn.Module):\n",
    "\n",
    "    def __init__(self, num_classes):\n",
    "        super(AlexNet, self).__init__()\n",
    "        self.features = nn.Sequential(\n",
    "            nn.Conv2d(3, 64, kernel_size=11, stride=4, padding=2),\n",
    "            nn.ReLU(inplace=True),\n",
    "            nn.MaxPool2d(kernel_size=3, stride=2),\n",
    "            nn.Conv2d(64, 192, kernel_size=5, padding=2),\n",
    "            nn.ReLU(inplace=True),\n",
    "            nn.MaxPool2d(kernel_size=3, stride=2),\n",
    "            nn.Conv2d(192, 384, kernel_size=3, padding=1),\n",
    "            nn.ReLU(inplace=True),\n",
    "            nn.Conv2d(384, 256, kernel_size=3, padding=1),\n",
    "            nn.ReLU(inplace=True),\n",
    "            nn.Conv2d(256, 256, kernel_size=3, padding=1),\n",
    "            nn.ReLU(inplace=True),\n",
    "            nn.MaxPool2d(kernel_size=3, stride=2),\n",
    "        )\n",
    "        self.avgpool = nn.AdaptiveAvgPool2d((6, 6))\n",
    "        self.classifier = nn.Sequential(\n",
    "            nn.Dropout(0.5),\n",
    "            nn.Linear(256 * 6 * 6, 4096),\n",
    "            nn.ReLU(inplace=True),\n",
    "            nn.Dropout(0.5),\n",
    "            nn.Linear(4096, 4096),\n",
    "            nn.ReLU(inplace=True),\n",
    "            nn.Linear(4096, num_classes)\n",
    "        )\n",
    "\n",
    "    def forward(self, x):\n",
    "        x = self.features(x)\n",
    "        x = self.avgpool(x)\n",
    "        x = x.view(x.size(0), 256 * 6 * 6)\n",
    "        logits = self.classifier(x)\n",
    "        probas = F.softmax(logits, dim=1)\n",
    "        return logits, probas\n"
   ]
  },
  {
   "cell_type": "code",
   "execution_count": 8,
   "metadata": {},
   "outputs": [],
   "source": [
    "def compute_acc(model, data_loader, device):\n",
    "    correct_pred, num_examples = 0, 0\n",
    "    model.eval()\n",
    "    for i, (features, targets) in enumerate(data_loader):\n",
    "            \n",
    "        features = features.to(device)\n",
    "        targets = targets.to(device)\n",
    "\n",
    "        logits, probas = model(features)\n",
    "        _, predicted_labels = torch.max(probas, 1)\n",
    "        num_examples += targets.size(0)\n",
    "        assert predicted_labels.size() == targets.size()\n",
    "        correct_pred += (predicted_labels == targets).sum()\n",
    "    return correct_pred.float()/num_examples * 100"
   ]
  },
  {
   "cell_type": "markdown",
   "metadata": {
    "colab_type": "text",
    "id": "RAodboScj5w6"
   },
   "source": [
    "# Training 1: Constant Batch Size"
   ]
  },
  {
   "cell_type": "code",
   "execution_count": 9,
   "metadata": {
    "colab": {
     "autoexec": {
      "startup": false,
      "wait_interval": 0
     }
    },
    "colab_type": "code",
    "id": "_lza9t_uj5w1"
   },
   "outputs": [],
   "source": [
    "torch.manual_seed(RANDOM_SEED)\n",
    "\n",
    "model = AlexNet(NUM_CLASSES)\n",
    "model.to(DEVICE)\n",
    "\n",
    "optimizer = torch.optim.Adam(model.parameters(), lr=LEARNING_RATE)  "
   ]
  },
  {
   "cell_type": "code",
   "execution_count": 10,
   "metadata": {
    "colab": {
     "autoexec": {
      "startup": false,
      "wait_interval": 0
     },
     "base_uri": "https://localhost:8080/",
     "height": 1547
    },
    "colab_type": "code",
    "executionInfo": {
     "elapsed": 2384585,
     "status": "ok",
     "timestamp": 1524976888520,
     "user": {
      "displayName": "Sebastian Raschka",
      "photoUrl": "//lh6.googleusercontent.com/-cxK6yOSQ6uE/AAAAAAAAAAI/AAAAAAAAIfw/P9ar_CHsKOQ/s50-c-k-no/photo.jpg",
      "userId": "118404394130788869227"
     },
     "user_tz": 240
    },
    "id": "Dzh3ROmRj5w7",
    "outputId": "5f8fd8c9-b076-403a-b0b7-fd2d498b48d7"
   },
   "outputs": [
    {
     "name": "stdout",
     "output_type": "stream",
     "text": [
      "Epoch: 001/040 | Batch 000/188 | Cost: 2.3029\n",
      "Epoch: 001/040 | Batch 150/188 | Cost: 1.7122\n",
      "Epoch: 001/040\n",
      "Train ACC: 32.64 | Validation ACC: 31.45\n",
      "Time elapsed: 0.21 min\n",
      "Epoch: 002/040 | Batch 000/188 | Cost: 1.7477\n",
      "Epoch: 002/040 | Batch 150/188 | Cost: 1.6831\n",
      "Epoch: 002/040\n",
      "Train ACC: 44.09 | Validation ACC: 43.40\n",
      "Time elapsed: 0.42 min\n",
      "Epoch: 003/040 | Batch 000/188 | Cost: 1.5064\n",
      "Epoch: 003/040 | Batch 150/188 | Cost: 1.4504\n",
      "Epoch: 003/040\n",
      "Train ACC: 51.37 | Validation ACC: 51.00\n",
      "Time elapsed: 0.63 min\n",
      "Epoch: 004/040 | Batch 000/188 | Cost: 1.4089\n",
      "Epoch: 004/040 | Batch 150/188 | Cost: 1.2423\n",
      "Epoch: 004/040\n",
      "Train ACC: 58.56 | Validation ACC: 57.75\n",
      "Time elapsed: 0.84 min\n",
      "Epoch: 005/040 | Batch 000/188 | Cost: 1.0506\n",
      "Epoch: 005/040 | Batch 150/188 | Cost: 1.1601\n",
      "Epoch: 005/040\n",
      "Train ACC: 59.14 | Validation ACC: 58.55\n",
      "Time elapsed: 1.06 min\n",
      "Epoch: 006/040 | Batch 000/188 | Cost: 1.0774\n",
      "Epoch: 006/040 | Batch 150/188 | Cost: 1.1084\n",
      "Epoch: 006/040\n",
      "Train ACC: 62.25 | Validation ACC: 60.95\n",
      "Time elapsed: 1.27 min\n",
      "Epoch: 007/040 | Batch 000/188 | Cost: 1.0387\n",
      "Epoch: 007/040 | Batch 150/188 | Cost: 1.0570\n",
      "Epoch: 007/040\n",
      "Train ACC: 65.41 | Validation ACC: 63.20\n",
      "Time elapsed: 1.49 min\n",
      "Epoch: 008/040 | Batch 000/188 | Cost: 1.0650\n",
      "Epoch: 008/040 | Batch 150/188 | Cost: 0.9280\n",
      "Epoch: 008/040\n",
      "Train ACC: 64.37 | Validation ACC: 63.95\n",
      "Time elapsed: 1.70 min\n",
      "Epoch: 009/040 | Batch 000/188 | Cost: 1.0195\n",
      "Epoch: 009/040 | Batch 150/188 | Cost: 0.7793\n",
      "Epoch: 009/040\n",
      "Train ACC: 69.71 | Validation ACC: 67.30\n",
      "Time elapsed: 1.91 min\n",
      "Epoch: 010/040 | Batch 000/188 | Cost: 0.7986\n",
      "Epoch: 010/040 | Batch 150/188 | Cost: 0.7988\n",
      "Epoch: 010/040\n",
      "Train ACC: 69.41 | Validation ACC: 65.45\n",
      "Time elapsed: 2.12 min\n",
      "Epoch: 011/040 | Batch 000/188 | Cost: 0.8688\n",
      "Epoch: 011/040 | Batch 150/188 | Cost: 0.7943\n",
      "Epoch: 011/040\n",
      "Train ACC: 70.95 | Validation ACC: 67.35\n",
      "Time elapsed: 2.34 min\n",
      "Epoch: 012/040 | Batch 000/188 | Cost: 0.7696\n",
      "Epoch: 012/040 | Batch 150/188 | Cost: 0.8943\n",
      "Epoch: 012/040\n",
      "Train ACC: 75.26 | Validation ACC: 67.95\n",
      "Time elapsed: 2.55 min\n",
      "Epoch: 013/040 | Batch 000/188 | Cost: 0.6622\n",
      "Epoch: 013/040 | Batch 150/188 | Cost: 0.7226\n",
      "Epoch: 013/040\n",
      "Train ACC: 77.99 | Validation ACC: 72.45\n",
      "Time elapsed: 2.76 min\n",
      "Epoch: 014/040 | Batch 000/188 | Cost: 0.6180\n",
      "Epoch: 014/040 | Batch 150/188 | Cost: 0.6502\n",
      "Epoch: 014/040\n",
      "Train ACC: 77.82 | Validation ACC: 70.85\n",
      "Time elapsed: 2.97 min\n",
      "Epoch: 015/040 | Batch 000/188 | Cost: 0.6359\n",
      "Epoch: 015/040 | Batch 150/188 | Cost: 0.8206\n",
      "Epoch: 015/040\n",
      "Train ACC: 79.41 | Validation ACC: 71.35\n",
      "Time elapsed: 3.18 min\n",
      "Epoch: 016/040 | Batch 000/188 | Cost: 0.6694\n",
      "Epoch: 016/040 | Batch 150/188 | Cost: 0.5700\n",
      "Epoch: 016/040\n",
      "Train ACC: 79.59 | Validation ACC: 70.75\n",
      "Time elapsed: 3.39 min\n",
      "Epoch: 017/040 | Batch 000/188 | Cost: 0.6395\n",
      "Epoch: 017/040 | Batch 150/188 | Cost: 0.5564\n",
      "Epoch: 017/040\n",
      "Train ACC: 82.24 | Validation ACC: 72.75\n",
      "Time elapsed: 3.61 min\n",
      "Epoch: 018/040 | Batch 000/188 | Cost: 0.5724\n",
      "Epoch: 018/040 | Batch 150/188 | Cost: 0.4650\n",
      "Epoch: 018/040\n",
      "Train ACC: 83.02 | Validation ACC: 71.55\n",
      "Time elapsed: 3.82 min\n",
      "Epoch: 019/040 | Batch 000/188 | Cost: 0.4790\n",
      "Epoch: 019/040 | Batch 150/188 | Cost: 0.4548\n",
      "Epoch: 019/040\n",
      "Train ACC: 84.87 | Validation ACC: 73.35\n",
      "Time elapsed: 4.03 min\n",
      "Epoch: 020/040 | Batch 000/188 | Cost: 0.4254\n",
      "Epoch: 020/040 | Batch 150/188 | Cost: 0.4183\n",
      "Epoch: 020/040\n",
      "Train ACC: 85.73 | Validation ACC: 72.55\n",
      "Time elapsed: 4.25 min\n",
      "Epoch: 021/040 | Batch 000/188 | Cost: 0.5254\n",
      "Epoch: 021/040 | Batch 150/188 | Cost: 0.4328\n",
      "Epoch: 021/040\n",
      "Train ACC: 85.22 | Validation ACC: 72.25\n",
      "Time elapsed: 4.46 min\n",
      "Epoch: 022/040 | Batch 000/188 | Cost: 0.4798\n",
      "Epoch: 022/040 | Batch 150/188 | Cost: 0.4075\n",
      "Epoch: 022/040\n",
      "Train ACC: 88.92 | Validation ACC: 73.90\n",
      "Time elapsed: 4.68 min\n",
      "Epoch: 023/040 | Batch 000/188 | Cost: 0.2946\n",
      "Epoch: 023/040 | Batch 150/188 | Cost: 0.3808\n",
      "Epoch: 023/040\n",
      "Train ACC: 89.33 | Validation ACC: 73.80\n",
      "Time elapsed: 4.88 min\n",
      "Epoch: 024/040 | Batch 000/188 | Cost: 0.2511\n",
      "Epoch: 024/040 | Batch 150/188 | Cost: 0.3758\n",
      "Epoch: 024/040\n",
      "Train ACC: 89.94 | Validation ACC: 74.20\n",
      "Time elapsed: 5.10 min\n",
      "Epoch: 025/040 | Batch 000/188 | Cost: 0.2348\n",
      "Epoch: 025/040 | Batch 150/188 | Cost: 0.4043\n",
      "Epoch: 025/040\n",
      "Train ACC: 90.37 | Validation ACC: 74.10\n",
      "Time elapsed: 5.31 min\n",
      "Epoch: 026/040 | Batch 000/188 | Cost: 0.2663\n",
      "Epoch: 026/040 | Batch 150/188 | Cost: 0.2651\n",
      "Epoch: 026/040\n",
      "Train ACC: 91.69 | Validation ACC: 72.55\n",
      "Time elapsed: 5.52 min\n",
      "Epoch: 027/040 | Batch 000/188 | Cost: 0.2907\n",
      "Epoch: 027/040 | Batch 150/188 | Cost: 0.2981\n",
      "Epoch: 027/040\n",
      "Train ACC: 92.33 | Validation ACC: 73.10\n",
      "Time elapsed: 5.74 min\n",
      "Epoch: 028/040 | Batch 000/188 | Cost: 0.2318\n",
      "Epoch: 028/040 | Batch 150/188 | Cost: 0.2904\n",
      "Epoch: 028/040\n",
      "Train ACC: 91.91 | Validation ACC: 72.10\n",
      "Time elapsed: 5.95 min\n",
      "Epoch: 029/040 | Batch 000/188 | Cost: 0.1949\n",
      "Epoch: 029/040 | Batch 150/188 | Cost: 0.1721\n",
      "Epoch: 029/040\n",
      "Train ACC: 93.64 | Validation ACC: 73.15\n",
      "Time elapsed: 6.16 min\n",
      "Epoch: 030/040 | Batch 000/188 | Cost: 0.1504\n",
      "Epoch: 030/040 | Batch 150/188 | Cost: 0.2986\n",
      "Epoch: 030/040\n",
      "Train ACC: 94.12 | Validation ACC: 73.50\n",
      "Time elapsed: 6.37 min\n",
      "Epoch: 031/040 | Batch 000/188 | Cost: 0.1666\n",
      "Epoch: 031/040 | Batch 150/188 | Cost: 0.1380\n",
      "Epoch: 031/040\n",
      "Train ACC: 92.82 | Validation ACC: 72.90\n",
      "Time elapsed: 6.59 min\n",
      "Epoch: 032/040 | Batch 000/188 | Cost: 0.2123\n",
      "Epoch: 032/040 | Batch 150/188 | Cost: 0.2601\n",
      "Epoch: 032/040\n",
      "Train ACC: 94.51 | Validation ACC: 72.80\n",
      "Time elapsed: 6.80 min\n",
      "Epoch: 033/040 | Batch 000/188 | Cost: 0.1769\n",
      "Epoch: 033/040 | Batch 150/188 | Cost: 0.1912\n",
      "Epoch: 033/040\n",
      "Train ACC: 94.81 | Validation ACC: 72.15\n",
      "Time elapsed: 7.01 min\n",
      "Epoch: 034/040 | Batch 000/188 | Cost: 0.2098\n",
      "Epoch: 034/040 | Batch 150/188 | Cost: 0.2454\n",
      "Epoch: 034/040\n",
      "Train ACC: 95.87 | Validation ACC: 73.25\n",
      "Time elapsed: 7.22 min\n",
      "Epoch: 035/040 | Batch 000/188 | Cost: 0.1446\n",
      "Epoch: 035/040 | Batch 150/188 | Cost: 0.1103\n",
      "Epoch: 035/040\n",
      "Train ACC: 94.59 | Validation ACC: 72.05\n",
      "Time elapsed: 7.43 min\n",
      "Epoch: 036/040 | Batch 000/188 | Cost: 0.1118\n",
      "Epoch: 036/040 | Batch 150/188 | Cost: 0.1148\n",
      "Epoch: 036/040\n",
      "Train ACC: 96.36 | Validation ACC: 74.30\n",
      "Time elapsed: 7.65 min\n",
      "Epoch: 037/040 | Batch 000/188 | Cost: 0.1138\n",
      "Epoch: 037/040 | Batch 150/188 | Cost: 0.2091\n",
      "Epoch: 037/040\n",
      "Train ACC: 95.63 | Validation ACC: 73.35\n",
      "Time elapsed: 7.85 min\n",
      "Epoch: 038/040 | Batch 000/188 | Cost: 0.1720\n",
      "Epoch: 038/040 | Batch 150/188 | Cost: 0.0837\n",
      "Epoch: 038/040\n",
      "Train ACC: 95.77 | Validation ACC: 74.10\n",
      "Time elapsed: 8.07 min\n",
      "Epoch: 039/040 | Batch 000/188 | Cost: 0.1058\n",
      "Epoch: 039/040 | Batch 150/188 | Cost: 0.0731\n",
      "Epoch: 039/040\n",
      "Train ACC: 97.03 | Validation ACC: 73.55\n",
      "Time elapsed: 8.28 min\n",
      "Epoch: 040/040 | Batch 000/188 | Cost: 0.1014\n",
      "Epoch: 040/040 | Batch 150/188 | Cost: 0.1611\n",
      "Epoch: 040/040\n",
      "Train ACC: 96.68 | Validation ACC: 72.30\n",
      "Time elapsed: 8.49 min\n",
      "Total Training Time: 8.49 min\n"
     ]
    }
   ],
   "source": [
    "start_time = time.time()\n",
    "\n",
    "cost_list = []\n",
    "train_acc_list, valid_acc_list = [], []\n",
    "\n",
    "\n",
    "for epoch in range(NUM_EPOCHS):\n",
    "    \n",
    "    model.train()\n",
    "    for batch_idx, (features, targets) in enumerate(train_loader):\n",
    "        \n",
    "        features = features.to(DEVICE)\n",
    "        targets = targets.to(DEVICE)\n",
    "            \n",
    "        ### FORWARD AND BACK PROP\n",
    "        logits, probas = model(features)\n",
    "        cost = F.cross_entropy(logits, targets)\n",
    "        optimizer.zero_grad()\n",
    "        \n",
    "        cost.backward()\n",
    "        \n",
    "        ### UPDATE MODEL PARAMETERS\n",
    "        optimizer.step()\n",
    "        \n",
    "        #################################################\n",
    "        ### CODE ONLY FOR LOGGING BEYOND THIS POINT\n",
    "        ################################################\n",
    "        cost_list.append(cost.item())\n",
    "        if not batch_idx % 150:\n",
    "            print (f'Epoch: {epoch+1:03d}/{NUM_EPOCHS:03d} | '\n",
    "                   f'Batch {batch_idx:03d}/{len(train_loader):03d} |' \n",
    "                   f' Cost: {cost:.4f}')\n",
    "\n",
    "        \n",
    "\n",
    "    model.eval()\n",
    "    with torch.set_grad_enabled(False): # save memory during inference\n",
    "        \n",
    "        train_acc = compute_acc(model, train_loader, device=DEVICE)\n",
    "        valid_acc = compute_acc(model, valid_loader, device=DEVICE)\n",
    "        \n",
    "        print(f'Epoch: {epoch+1:03d}/{NUM_EPOCHS:03d}\\n'\n",
    "              f'Train ACC: {train_acc:.2f} | Validation ACC: {valid_acc:.2f}')\n",
    "        \n",
    "        train_acc_list.append(train_acc)\n",
    "        valid_acc_list.append(valid_acc)\n",
    "        \n",
    "    elapsed = (time.time() - start_time)/60\n",
    "    print(f'Time elapsed: {elapsed:.2f} min')\n",
    "  \n",
    "elapsed = (time.time() - start_time)/60\n",
    "print(f'Total Training Time: {elapsed:.2f} min')"
   ]
  },
  {
   "cell_type": "markdown",
   "metadata": {},
   "source": [
    "## Evaluation"
   ]
  },
  {
   "cell_type": "code",
   "execution_count": 11,
   "metadata": {},
   "outputs": [
    {
     "data": {
      "image/png": "[encoded data removed]",
      "text/plain": [
       "<Figure size 432x288 with 1 Axes>"
      ]
     },
     "metadata": {
      "needs_background": "light"
     },
     "output_type": "display_data"
    }
   ],
   "source": [
    "plt.plot(cost_list, label='Minibatch cost')\n",
    "plt.plot(np.convolve(cost_list, \n",
    "                     np.ones(200,)/200, mode='valid'), \n",
    "         label='Running average')\n",
    "\n",
    "plt.ylabel('Cross Entropy')\n",
    "plt.xlabel('Iteration')\n",
    "plt.legend()\n",
    "plt.show()"
   ]
  },
  {
   "cell_type": "code",
   "execution_count": 12,
   "metadata": {},
   "outputs": [
    {
     "data": {
      "image/png": "[encoded data removed]",
      "text/plain": [
       "<Figure size 432x288 with 1 Axes>"
      ]
     },
     "metadata": {
      "needs_background": "light"
     },
     "output_type": "display_data"
    }
   ],
   "source": [
    "plt.plot(np.arange(1, NUM_EPOCHS+1), train_acc_list, label='Training')\n",
    "plt.plot(np.arange(1, NUM_EPOCHS+1), valid_acc_list, label='Validation')\n",
    "\n",
    "plt.xlabel('Epoch')\n",
    "plt.ylabel('Accuracy')\n",
    "plt.legend()\n",
    "plt.show()"
   ]
  },
  {
   "cell_type": "code",
   "execution_count": 13,
   "metadata": {},
   "outputs": [
    {
     "name": "stdout",
     "output_type": "stream",
     "text": [
      "Validation ACC: 71.60%\n",
      "Test ACC: 72.37%\n"
     ]
    }
   ],
   "source": [
    "with torch.set_grad_enabled(False):\n",
    "    test_acc = compute_acc(model=model,\n",
    "                           data_loader=test_loader,\n",
    "                           device=DEVICE)\n",
    "    \n",
    "    valid_acc = compute_acc(model=model,\n",
    "                            data_loader=valid_loader,\n",
    "                            device=DEVICE)\n",
    "    \n",
    "\n",
    "print(f'Validation ACC: {valid_acc:.2f}%')\n",
    "print(f'Test ACC: {test_acc:.2f}%')"
   ]
  },
  {
   "cell_type": "markdown",
   "metadata": {},
   "source": [
    "# Training 2: Increasing Batch Size"
   ]
  },
  {
   "cell_type": "code",
   "execution_count": 14,
   "metadata": {},
   "outputs": [],
   "source": [
    "torch.manual_seed(RANDOM_SEED)\n",
    "\n",
    "model = AlexNet(NUM_CLASSES)\n",
    "model.to(DEVICE)\n",
    "\n",
    "optimizer = torch.optim.Adam(model.parameters(), lr=LEARNING_RATE)  "
   ]
  },
  {
   "cell_type": "code",
   "execution_count": 15,
   "metadata": {},
   "outputs": [],
   "source": [
    "batch_sizes = np.arange(256, 5121, 512)\n",
    "batch_size_index = 0"
   ]
  },
  {
   "cell_type": "code",
   "execution_count": 16,
   "metadata": {},
   "outputs": [
    {
     "name": "stdout",
     "output_type": "stream",
     "text": [
      "Epoch: 001/040 | Batch 000/188 | Cost: 2.3029 | Batchsize: 256\n",
      "Epoch: 001/040 | Batch 150/188 | Cost: 1.7115 | Batchsize: 256\n",
      "Epoch: 001/040\n",
      "Train ACC: 33.36 | Validation ACC: 33.00\n",
      "Time elapsed: 0.21 min\n",
      "Epoch: 002/040 | Batch 000/188 | Cost: 1.7286 | Batchsize: 256\n",
      "Epoch: 002/040 | Batch 150/188 | Cost: 1.6143 | Batchsize: 256\n",
      "Epoch: 002/040\n",
      "Train ACC: 44.84 | Validation ACC: 45.55\n",
      "Time elapsed: 0.42 min\n",
      "Epoch: 003/040 | Batch 000/188 | Cost: 1.5018 | Batchsize: 256\n",
      "Epoch: 003/040 | Batch 150/188 | Cost: 1.4893 | Batchsize: 256\n",
      "Epoch: 003/040\n",
      "Train ACC: 50.73 | Validation ACC: 50.55\n",
      "Time elapsed: 0.64 min\n",
      "Epoch: 004/040 | Batch 000/188 | Cost: 1.4247 | Batchsize: 256\n",
      "Epoch: 004/040 | Batch 150/188 | Cost: 1.2653 | Batchsize: 256\n",
      "Epoch: 004/040\n",
      "Train ACC: 56.70 | Validation ACC: 57.35\n",
      "Time elapsed: 0.85 min\n",
      "Epoch: 005/040 | Batch 000/188 | Cost: 1.0885 | Batchsize: 256\n",
      "Epoch: 005/040 | Batch 150/188 | Cost: 1.1472 | Batchsize: 256\n",
      "Epoch: 005/040\n",
      "Train ACC: 60.30 | Validation ACC: 58.45\n",
      "Time elapsed: 1.06 min\n",
      "Epoch: 006/040 | Batch 000/188 | Cost: 1.0394 | Batchsize: 256\n",
      "Epoch: 006/040 | Batch 150/188 | Cost: 1.0907 | Batchsize: 256\n",
      "Epoch: 006/040\n",
      "Train ACC: 62.62 | Validation ACC: 60.85\n",
      "Time elapsed: 1.27 min\n",
      "Epoch: 007/040 | Batch 000/188 | Cost: 1.0348 | Batchsize: 256\n",
      "Epoch: 007/040 | Batch 150/188 | Cost: 1.0401 | Batchsize: 256\n",
      "Epoch: 007/040\n",
      "Train ACC: 66.19 | Validation ACC: 65.60\n",
      "Time elapsed: 1.48 min\n",
      "Epoch: 008/040 | Batch 000/188 | Cost: 1.0627 | Batchsize: 256\n",
      "Epoch: 008/040 | Batch 150/188 | Cost: 0.9297 | Batchsize: 256\n",
      "Epoch: 008/040\n",
      "Train ACC: 64.11 | Validation ACC: 63.90\n",
      "Time elapsed: 1.70 min\n",
      "Epoch: 009/040 | Batch 000/188 | Cost: 1.0361 | Batchsize: 256\n",
      "Epoch: 009/040 | Batch 150/188 | Cost: 0.8127 | Batchsize: 256\n",
      "Epoch: 009/040\n",
      "Train ACC: 69.89 | Validation ACC: 65.45\n",
      "Time elapsed: 1.91 min\n",
      "Epoch: 010/040 | Batch 000/188 | Cost: 0.7913 | Batchsize: 256\n",
      "Epoch: 010/040 | Batch 150/188 | Cost: 0.7620 | Batchsize: 256\n",
      "Epoch: 010/040\n",
      "Train ACC: 69.22 | Validation ACC: 66.50\n",
      "Time elapsed: 2.12 min\n",
      "Epoch: 011/040 | Batch 000/188 | Cost: 0.8304 | Batchsize: 256\n",
      "Epoch: 011/040 | Batch 150/188 | Cost: 0.8406 | Batchsize: 256\n",
      "Epoch: 011/040\n",
      "Train ACC: 71.92 | Validation ACC: 68.50\n",
      "Time elapsed: 2.33 min\n",
      "Epoch: 012/040 | Batch 000/188 | Cost: 0.6939 | Batchsize: 256\n",
      "Epoch: 012/040 | Batch 150/188 | Cost: 0.9586 | Batchsize: 256\n",
      "Epoch: 012/040\n",
      "Train ACC: 73.86 | Validation ACC: 67.45\n",
      "Time elapsed: 2.54 min\n",
      "Epoch: 013/040 | Batch 000/188 | Cost: 0.7050 | Batchsize: 256\n",
      "Epoch: 013/040 | Batch 150/188 | Cost: 0.6281 | Batchsize: 256\n",
      "Epoch: 013/040\n",
      "Train ACC: 77.54 | Validation ACC: 70.90\n",
      "Time elapsed: 2.76 min\n",
      "Epoch: 014/040 | Batch 000/188 | Cost: 0.6453 | Batchsize: 256\n",
      "Epoch: 014/040 | Batch 150/188 | Cost: 0.6312 | Batchsize: 256\n",
      "Epoch: 014/040\n",
      "Train ACC: 76.89 | Validation ACC: 69.80\n",
      "Time elapsed: 2.97 min\n",
      "Epoch: 015/040 | Batch 000/188 | Cost: 0.6457 | Batchsize: 256\n",
      "Epoch: 015/040 | Batch 150/188 | Cost: 0.7908 | Batchsize: 256\n",
      "Epoch: 015/040\n",
      "Train ACC: 78.62 | Validation ACC: 71.50\n",
      "Time elapsed: 3.18 min\n",
      "Epoch: 016/040 | Batch 000/188 | Cost: 0.7273 | Batchsize: 256\n",
      "Epoch: 016/040 | Batch 150/188 | Cost: 0.5583 | Batchsize: 256\n",
      "Epoch: 016/040\n",
      "Train ACC: 80.89 | Validation ACC: 70.75\n",
      "Time elapsed: 3.39 min\n",
      "Epoch: 017/040 | Batch 000/188 | Cost: 0.5611 | Batchsize: 256\n",
      "Epoch: 017/040 | Batch 150/188 | Cost: 0.5131 | Batchsize: 256\n",
      "Epoch: 017/040\n",
      "Train ACC: 83.01 | Validation ACC: 71.25\n",
      "Time elapsed: 3.60 min\n",
      "Epoch: 018/040 | Batch 000/188 | Cost: 0.5365 | Batchsize: 256\n",
      "Epoch: 018/040 | Batch 150/188 | Cost: 0.4436 | Batchsize: 256\n",
      "Epoch: 018/040\n",
      "Train ACC: 81.85 | Validation ACC: 71.55\n",
      "Time elapsed: 3.81 min\n",
      "Epoch: 019/040 | Batch 000/188 | Cost: 0.4803 | Batchsize: 256\n",
      "Epoch: 019/040 | Batch 150/188 | Cost: 0.4372 | Batchsize: 256\n",
      "Epoch: 019/040\n",
      "Train ACC: 84.76 | Validation ACC: 73.60\n",
      "Time elapsed: 4.03 min\n",
      "Epoch: 020/040 | Batch 000/188 | Cost: 0.4905 | Batchsize: 256\n",
      "Epoch: 020/040 | Batch 150/188 | Cost: 0.4021 | Batchsize: 256\n",
      "Epoch: 020/040\n",
      "Train ACC: 85.10 | Validation ACC: 71.25\n",
      "Time elapsed: 4.24 min\n",
      "Epoch: 021/040 | Batch 000/188 | Cost: 0.4978 | Batchsize: 256\n",
      "Epoch: 021/040 | Batch 150/188 | Cost: 0.4828 | Batchsize: 256\n",
      "Epoch: 021/040\n",
      "Train ACC: 87.19 | Validation ACC: 72.75\n",
      "Time elapsed: 4.45 min\n",
      "Epoch: 022/040 | Batch 000/188 | Cost: 0.3978 | Batchsize: 256\n",
      "Epoch: 022/040 | Batch 150/188 | Cost: 0.4588 | Batchsize: 256\n",
      "Epoch: 022/040\n",
      "Train ACC: 87.93 | Validation ACC: 72.20\n",
      "Time elapsed: 4.66 min\n",
      "Epoch: 023/040 | Batch 000/188 | Cost: 0.3476 | Batchsize: 256\n",
      "Epoch: 023/040 | Batch 150/188 | Cost: 0.3774 | Batchsize: 256\n",
      "Epoch: 023/040\n",
      "Train ACC: 90.10 | Validation ACC: 72.35\n",
      "Time elapsed: 4.87 min\n",
      "Epoch: 024/040 | Batch 000/188 | Cost: 0.3039 | Batchsize: 256\n",
      "Epoch: 024/040 | Batch 150/188 | Cost: 0.4589 | Batchsize: 256\n",
      "Epoch: 024/040\n",
      "Train ACC: 89.20 | Validation ACC: 72.00\n",
      "Time elapsed: 5.09 min\n",
      "Epoch: 025/040 | Batch 000/188 | Cost: 0.2648 | Batchsize: 768\n",
      "Epoch: 025/040 | Batch 150/188 | Cost: 0.3186 | Batchsize: 768\n",
      "Epoch: 025/040\n",
      "Train ACC: 91.24 | Validation ACC: 72.55\n",
      "Time elapsed: 5.30 min\n",
      "Epoch: 026/040 | Batch 000/188 | Cost: 0.2093 | Batchsize: 768\n",
      "Epoch: 026/040 | Batch 150/188 | Cost: 0.3252 | Batchsize: 768\n",
      "Epoch: 026/040\n",
      "Train ACC: 90.77 | Validation ACC: 71.80\n",
      "Time elapsed: 5.51 min\n",
      "Epoch: 027/040 | Batch 000/188 | Cost: 0.3375 | Batchsize: 768\n",
      "Epoch: 027/040 | Batch 150/188 | Cost: 0.2307 | Batchsize: 768\n",
      "Epoch: 027/040\n",
      "Train ACC: 92.61 | Validation ACC: 73.15\n",
      "Time elapsed: 5.72 min\n",
      "Epoch: 028/040 | Batch 000/188 | Cost: 0.2307 | Batchsize: 768\n",
      "Epoch: 028/040 | Batch 150/188 | Cost: 0.2596 | Batchsize: 768\n",
      "Epoch: 028/040\n",
      "Train ACC: 90.78 | Validation ACC: 70.25\n",
      "Time elapsed: 5.94 min\n",
      "Epoch: 029/040 | Batch 000/063 | Cost: 0.2773 | Batchsize: 1280\n",
      "Epoch: 029/040\n",
      "Train ACC: 96.33 | Validation ACC: 75.60\n",
      "Time elapsed: 6.11 min\n",
      "Epoch: 030/040 | Batch 000/063 | Cost: 0.0958 | Batchsize: 1280\n",
      "Epoch: 030/040\n",
      "Train ACC: 96.87 | Validation ACC: 74.95\n",
      "Time elapsed: 6.28 min\n",
      "Epoch: 031/040 | Batch 000/063 | Cost: 0.1020 | Batchsize: 1280\n",
      "Epoch: 031/040\n",
      "Train ACC: 97.30 | Validation ACC: 74.40\n",
      "Time elapsed: 6.44 min\n",
      "Epoch: 032/040 | Batch 000/063 | Cost: 0.0750 | Batchsize: 1280\n",
      "Epoch: 032/040\n",
      "Train ACC: 97.54 | Validation ACC: 75.00\n",
      "Time elapsed: 6.61 min\n",
      "Epoch: 033/040 | Batch 000/038 | Cost: 0.0687 | Batchsize: 1792\n",
      "Epoch: 033/040\n",
      "Train ACC: 98.05 | Validation ACC: 76.20\n",
      "Time elapsed: 6.79 min\n",
      "Epoch: 034/040 | Batch 000/038 | Cost: 0.0607 | Batchsize: 1792\n",
      "Epoch: 034/040\n",
      "Train ACC: 98.19 | Validation ACC: 75.25\n",
      "Time elapsed: 6.96 min\n",
      "Epoch: 035/040 | Batch 000/038 | Cost: 0.0577 | Batchsize: 1792\n",
      "Epoch: 035/040\n",
      "Train ACC: 98.34 | Validation ACC: 75.00\n",
      "Time elapsed: 7.13 min\n",
      "Epoch: 036/040 | Batch 000/038 | Cost: 0.0546 | Batchsize: 1792\n",
      "Epoch: 036/040\n",
      "Train ACC: 98.30 | Validation ACC: 75.35\n",
      "Time elapsed: 7.30 min\n",
      "Epoch: 037/040 | Batch 000/027 | Cost: 0.0610 | Batchsize: 2304\n",
      "Epoch: 037/040\n",
      "Train ACC: 98.56 | Validation ACC: 75.15\n",
      "Time elapsed: 7.47 min\n",
      "Epoch: 038/040 | Batch 000/027 | Cost: 0.0544 | Batchsize: 2304\n",
      "Epoch: 038/040\n",
      "Train ACC: 98.78 | Validation ACC: 75.30\n",
      "Time elapsed: 7.64 min\n",
      "Epoch: 039/040 | Batch 000/027 | Cost: 0.0431 | Batchsize: 2304\n",
      "Epoch: 039/040\n",
      "Train ACC: 98.84 | Validation ACC: 76.75\n",
      "Time elapsed: 7.81 min\n",
      "Epoch: 040/040 | Batch 000/027 | Cost: 0.0455 | Batchsize: 2304\n",
      "Epoch: 040/040\n",
      "Train ACC: 98.84 | Validation ACC: 74.80\n",
      "Time elapsed: 7.98 min\n",
      "Total Training Time: 7.98 min\n"
     ]
    }
   ],
   "source": [
    "start_time = time.time()\n",
    "\n",
    "cost_list = []\n",
    "train_acc_list, valid_acc_list = [], []\n",
    "\n",
    "\n",
    "for epoch in range(NUM_EPOCHS):\n",
    "    \n",
    "    ### INCREASE BATCH SIZE\n",
    "    if epoch > (NUM_EPOCHS//2) and not epoch % (NUM_EPOCHS//len(batch_sizes)):\n",
    "        train_loader = DataLoader(dataset=train_dataset, \n",
    "                                  batch_size=int(batch_sizes[batch_size_index]),\n",
    "                                  num_workers=4,\n",
    "                                  shuffle=True)\n",
    "\n",
    "        batch_size_index += 1\n",
    "    \n",
    "    \n",
    "    model.train()\n",
    "    for batch_idx, (features, targets) in enumerate(train_loader):\n",
    "        \n",
    "        features = features.to(DEVICE)\n",
    "        targets = targets.to(DEVICE)\n",
    "            \n",
    "        ### FORWARD AND BACK PROP\n",
    "        logits, probas = model(features)\n",
    "        cost = F.cross_entropy(logits, targets)\n",
    "        optimizer.zero_grad()\n",
    "        \n",
    "        cost.backward()\n",
    "        \n",
    "        ### UPDATE MODEL PARAMETERS\n",
    "        optimizer.step()\n",
    "        \n",
    "        #################################################\n",
    "        ### CODE ONLY FOR LOGGING BEYOND THIS POINT\n",
    "        ################################################\n",
    "        cost_list.append(cost.item())\n",
    "        if not batch_idx % 150:\n",
    "            print (f'Epoch: {epoch+1:03d}/{NUM_EPOCHS:03d} | '\n",
    "                   f'Batch {batch_idx:03d}/{len(train_loader):03d} |' \n",
    "                   f' Cost: {cost:.4f} | Batchsize: {batch_sizes[batch_size_index]}')\n",
    "\n",
    "        \n",
    "\n",
    "    model.eval()\n",
    "    with torch.set_grad_enabled(False): # save memory during inference\n",
    "        \n",
    "        train_acc = compute_acc(model, train_loader, device=DEVICE)\n",
    "        valid_acc = compute_acc(model, valid_loader, device=DEVICE)\n",
    "        \n",
    "        print(f'Epoch: {epoch+1:03d}/{NUM_EPOCHS:03d}\\n'\n",
    "              f'Train ACC: {train_acc:.2f} | Validation ACC: {valid_acc:.2f}')\n",
    "        \n",
    "        train_acc_list.append(train_acc)\n",
    "        valid_acc_list.append(valid_acc)\n",
    "        \n",
    "    elapsed = (time.time() - start_time)/60\n",
    "    print(f'Time elapsed: {elapsed:.2f} min')\n",
    "  \n",
    "elapsed = (time.time() - start_time)/60\n",
    "print(f'Total Training Time: {elapsed:.2f} min')"
   ]
  },
  {
   "cell_type": "code",
   "execution_count": 17,
   "metadata": {},
   "outputs": [
    {
     "data": {
      "image/png": "[encoded data removed]",
      "text/plain": [
       "<Figure size 432x288 with 1 Axes>"
      ]
     },
     "metadata": {
      "needs_background": "light"
     },
     "output_type": "display_data"
    }
   ],
   "source": [
    "plt.plot(cost_list, label='Minibatch cost')\n",
    "plt.plot(np.convolve(cost_list, \n",
    "                     np.ones(200,)/200, mode='valid'), \n",
    "         label='Running average')\n",
    "\n",
    "plt.ylabel('Cross Entropy')\n",
    "plt.xlabel('Iteration')\n",
    "plt.legend()\n",
    "plt.show()"
   ]
  },
  {
   "cell_type": "code",
   "execution_count": 18,
   "metadata": {},
   "outputs": [
    {
     "data": {
      "image/png": "[encoded data removed]",
      "text/plain": [
       "<Figure size 432x288 with 1 Axes>"
      ]
     },
     "metadata": {
      "needs_background": "light"
     },
     "output_type": "display_data"
    }
   ],
   "source": [
    "plt.plot(np.arange(1, NUM_EPOCHS+1), train_acc_list, label='Training')\n",
    "plt.plot(np.arange(1, NUM_EPOCHS+1), valid_acc_list, label='Validation')\n",
    "\n",
    "plt.xlabel('Epoch')\n",
    "plt.ylabel('Accuracy')\n",
    "plt.legend()\n",
    "plt.show()"
   ]
  },
  {
   "cell_type": "code",
   "execution_count": 19,
   "metadata": {},
   "outputs": [
    {
     "name": "stdout",
     "output_type": "stream",
     "text": [
      "Validation ACC: 75.25%\n",
      "Test ACC: 73.93%\n"
     ]
    }
   ],
   "source": [
    "with torch.set_grad_enabled(False):\n",
    "    test_acc = compute_acc(model=model,\n",
    "                           data_loader=test_loader,\n",
    "                           device=DEVICE)\n",
    "    \n",
    "    valid_acc = compute_acc(model=model,\n",
    "                            data_loader=valid_loader,\n",
    "                            device=DEVICE)\n",
    "    \n",
    "\n",
    "print(f'Validation ACC: {valid_acc:.2f}%')\n",
    "print(f'Test ACC: {test_acc:.2f}%')"
   ]
  }
 ],
 "metadata": {
  "accelerator": "GPU",
  "colab": {
   "collapsed_sections": [],
   "default_view": {},
   "name": "convnet-vgg16.ipynb",
   "provenance": [],
   "version": "0.3.2",
   "views": {}
  },
  "kernelspec": {
   "display_name": "Python 3",
   "language": "python",
   "name": "python3"
  },
  "language_info": {
   "codemirror_mode": {
    "name": "ipython",
    "version": 3
   },
   "file_extension": ".py",
   "mimetype": "text/x-python",
   "name": "python",
   "nbconvert_exporter": "python",
   "pygments_lexer": "ipython3",
   "version": "3.7.3"
  },
  "toc": {
   "nav_menu": {},
   "number_sections": true,
   "sideBar": true,
   "skip_h1_title": false,
   "title_cell": "Table of Contents",
   "title_sidebar": "Contents",
   "toc_cell": true,
   "toc_position": {
    "height": "calc(100% - 180px)",
    "left": "10px",
    "top": "150px",
    "width": "371px"
   },
   "toc_section_display": true,
   "toc_window_display": true
  }
 },
 "nbformat": 4,
 "nbformat_minor": 4
}
